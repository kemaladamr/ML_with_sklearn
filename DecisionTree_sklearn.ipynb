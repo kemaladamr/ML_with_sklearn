{
  "nbformat": 4,
  "nbformat_minor": 0,
  "metadata": {
    "colab": {
      "name": "DecisionTree_sklearn.ipynb",
      "provenance": [],
      "collapsed_sections": [],
      "authorship_tag": "ABX9TyMa+aoeSnYlETcU77SVAVXm",
      "include_colab_link": true
    },
    "kernelspec": {
      "name": "python3",
      "display_name": "Python 3"
    },
    "language_info": {
      "name": "python"
    }
  },
  "cells": [
    {
      "cell_type": "markdown",
      "metadata": {
        "id": "view-in-github",
        "colab_type": "text"
      },
      "source": [
        "<a href=\"https://colab.research.google.com/github/kemaladamr/ML_with_sklearn/blob/main/DecisionTree_sklearn.ipynb\" target=\"_parent\"><img src=\"https://colab.research.google.com/assets/colab-badge.svg\" alt=\"Open In Colab\"/></a>"
      ]
    },
    {
      "cell_type": "code",
      "execution_count": null,
      "metadata": {
        "id": "YWCc2JXDW7KR"
      },
      "outputs": [],
      "source": [
        "from sklearn import datasets\n",
        "import pandas as pd\n",
        "iris = datasets.load_iris()"
      ]
    },
    {
      "cell_type": "code",
      "source": [
        "dir(iris)"
      ],
      "metadata": {
        "colab": {
          "base_uri": "https://localhost:8080/"
        },
        "id": "UIo50sjRXRtv",
        "outputId": "27b21bf9-6de9-4663-94dd-1dff6b6d14c0"
      },
      "execution_count": null,
      "outputs": [
        {
          "output_type": "execute_result",
          "data": {
            "text/plain": [
              "['DESCR',\n",
              " 'data',\n",
              " 'data_module',\n",
              " 'feature_names',\n",
              " 'filename',\n",
              " 'frame',\n",
              " 'target',\n",
              " 'target_names']"
            ]
          },
          "metadata": {},
          "execution_count": 2
        }
      ]
    },
    {
      "cell_type": "code",
      "source": [
        "print(iris.DESCR)"
      ],
      "metadata": {
        "colab": {
          "base_uri": "https://localhost:8080/"
        },
        "id": "KoTppX0WXTSH",
        "outputId": "75ae842a-2658-404f-a44f-f71e0f746af4"
      },
      "execution_count": null,
      "outputs": [
        {
          "output_type": "stream",
          "name": "stdout",
          "text": [
            ".. _iris_dataset:\n",
            "\n",
            "Iris plants dataset\n",
            "--------------------\n",
            "\n",
            "**Data Set Characteristics:**\n",
            "\n",
            "    :Number of Instances: 150 (50 in each of three classes)\n",
            "    :Number of Attributes: 4 numeric, predictive attributes and the class\n",
            "    :Attribute Information:\n",
            "        - sepal length in cm\n",
            "        - sepal width in cm\n",
            "        - petal length in cm\n",
            "        - petal width in cm\n",
            "        - class:\n",
            "                - Iris-Setosa\n",
            "                - Iris-Versicolour\n",
            "                - Iris-Virginica\n",
            "                \n",
            "    :Summary Statistics:\n",
            "\n",
            "    ============== ==== ==== ======= ===== ====================\n",
            "                    Min  Max   Mean    SD   Class Correlation\n",
            "    ============== ==== ==== ======= ===== ====================\n",
            "    sepal length:   4.3  7.9   5.84   0.83    0.7826\n",
            "    sepal width:    2.0  4.4   3.05   0.43   -0.4194\n",
            "    petal length:   1.0  6.9   3.76   1.76    0.9490  (high!)\n",
            "    petal width:    0.1  2.5   1.20   0.76    0.9565  (high!)\n",
            "    ============== ==== ==== ======= ===== ====================\n",
            "\n",
            "    :Missing Attribute Values: None\n",
            "    :Class Distribution: 33.3% for each of 3 classes.\n",
            "    :Creator: R.A. Fisher\n",
            "    :Donor: Michael Marshall (MARSHALL%PLU@io.arc.nasa.gov)\n",
            "    :Date: July, 1988\n",
            "\n",
            "The famous Iris database, first used by Sir R.A. Fisher. The dataset is taken\n",
            "from Fisher's paper. Note that it's the same as in R, but not as in the UCI\n",
            "Machine Learning Repository, which has two wrong data points.\n",
            "\n",
            "This is perhaps the best known database to be found in the\n",
            "pattern recognition literature.  Fisher's paper is a classic in the field and\n",
            "is referenced frequently to this day.  (See Duda & Hart, for example.)  The\n",
            "data set contains 3 classes of 50 instances each, where each class refers to a\n",
            "type of iris plant.  One class is linearly separable from the other 2; the\n",
            "latter are NOT linearly separable from each other.\n",
            "\n",
            ".. topic:: References\n",
            "\n",
            "   - Fisher, R.A. \"The use of multiple measurements in taxonomic problems\"\n",
            "     Annual Eugenics, 7, Part II, 179-188 (1936); also in \"Contributions to\n",
            "     Mathematical Statistics\" (John Wiley, NY, 1950).\n",
            "   - Duda, R.O., & Hart, P.E. (1973) Pattern Classification and Scene Analysis.\n",
            "     (Q327.D83) John Wiley & Sons.  ISBN 0-471-22361-1.  See page 218.\n",
            "   - Dasarathy, B.V. (1980) \"Nosing Around the Neighborhood: A New System\n",
            "     Structure and Classification Rule for Recognition in Partially Exposed\n",
            "     Environments\".  IEEE Transactions on Pattern Analysis and Machine\n",
            "     Intelligence, Vol. PAMI-2, No. 1, 67-71.\n",
            "   - Gates, G.W. (1972) \"The Reduced Nearest Neighbor Rule\".  IEEE Transactions\n",
            "     on Information Theory, May 1972, 431-433.\n",
            "   - See also: 1988 MLC Proceedings, 54-64.  Cheeseman et al\"s AUTOCLASS II\n",
            "     conceptual clustering system finds 3 classes in the data.\n",
            "   - Many, many more ...\n"
          ]
        }
      ]
    },
    {
      "cell_type": "code",
      "source": [
        "df = pd.DataFrame(\n",
        "    iris.data,\n",
        "    columns=iris.feature_names\n",
        ")"
      ],
      "metadata": {
        "id": "Jf-zRRy_Xcyr"
      },
      "execution_count": null,
      "outputs": []
    },
    {
      "cell_type": "code",
      "source": [
        "df['target'] = pd.Series(\n",
        "    iris.target\n",
        ")"
      ],
      "metadata": {
        "id": "pmR2yxKPXrCx"
      },
      "execution_count": null,
      "outputs": []
    },
    {
      "cell_type": "code",
      "source": [
        "df['target_names'] = df['target'].apply(lambda y: iris.target_names[y])"
      ],
      "metadata": {
        "id": "BFVLU3FGXyBs"
      },
      "execution_count": null,
      "outputs": []
    },
    {
      "cell_type": "code",
      "source": [
        "# print df.sample(n=6)\n",
        "df.sample(n=6, random_state=42)"
      ],
      "metadata": {
        "colab": {
          "base_uri": "https://localhost:8080/",
          "height": 299
        },
        "id": "pjnHpaRKYAZx",
        "outputId": "53ee2cd3-3b6b-43d0-d1db-692e6c5a42a2"
      },
      "execution_count": null,
      "outputs": [
        {
          "output_type": "execute_result",
          "data": {
            "text/html": [
              "\n",
              "  <div id=\"df-6d9f44ab-49f0-4e1b-8c6a-44f49074e96c\">\n",
              "    <div class=\"colab-df-container\">\n",
              "      <div>\n",
              "<style scoped>\n",
              "    .dataframe tbody tr th:only-of-type {\n",
              "        vertical-align: middle;\n",
              "    }\n",
              "\n",
              "    .dataframe tbody tr th {\n",
              "        vertical-align: top;\n",
              "    }\n",
              "\n",
              "    .dataframe thead th {\n",
              "        text-align: right;\n",
              "    }\n",
              "</style>\n",
              "<table border=\"1\" class=\"dataframe\">\n",
              "  <thead>\n",
              "    <tr style=\"text-align: right;\">\n",
              "      <th></th>\n",
              "      <th>sepal length (cm)</th>\n",
              "      <th>sepal width (cm)</th>\n",
              "      <th>petal length (cm)</th>\n",
              "      <th>petal width (cm)</th>\n",
              "      <th>target</th>\n",
              "      <th>target_names</th>\n",
              "    </tr>\n",
              "  </thead>\n",
              "  <tbody>\n",
              "    <tr>\n",
              "      <th>73</th>\n",
              "      <td>6.1</td>\n",
              "      <td>2.8</td>\n",
              "      <td>4.7</td>\n",
              "      <td>1.2</td>\n",
              "      <td>1</td>\n",
              "      <td>versicolor</td>\n",
              "    </tr>\n",
              "    <tr>\n",
              "      <th>18</th>\n",
              "      <td>5.7</td>\n",
              "      <td>3.8</td>\n",
              "      <td>1.7</td>\n",
              "      <td>0.3</td>\n",
              "      <td>0</td>\n",
              "      <td>setosa</td>\n",
              "    </tr>\n",
              "    <tr>\n",
              "      <th>118</th>\n",
              "      <td>7.7</td>\n",
              "      <td>2.6</td>\n",
              "      <td>6.9</td>\n",
              "      <td>2.3</td>\n",
              "      <td>2</td>\n",
              "      <td>virginica</td>\n",
              "    </tr>\n",
              "    <tr>\n",
              "      <th>78</th>\n",
              "      <td>6.0</td>\n",
              "      <td>2.9</td>\n",
              "      <td>4.5</td>\n",
              "      <td>1.5</td>\n",
              "      <td>1</td>\n",
              "      <td>versicolor</td>\n",
              "    </tr>\n",
              "    <tr>\n",
              "      <th>76</th>\n",
              "      <td>6.8</td>\n",
              "      <td>2.8</td>\n",
              "      <td>4.8</td>\n",
              "      <td>1.4</td>\n",
              "      <td>1</td>\n",
              "      <td>versicolor</td>\n",
              "    </tr>\n",
              "    <tr>\n",
              "      <th>31</th>\n",
              "      <td>5.4</td>\n",
              "      <td>3.4</td>\n",
              "      <td>1.5</td>\n",
              "      <td>0.4</td>\n",
              "      <td>0</td>\n",
              "      <td>setosa</td>\n",
              "    </tr>\n",
              "  </tbody>\n",
              "</table>\n",
              "</div>\n",
              "      <button class=\"colab-df-convert\" onclick=\"convertToInteractive('df-6d9f44ab-49f0-4e1b-8c6a-44f49074e96c')\"\n",
              "              title=\"Convert this dataframe to an interactive table.\"\n",
              "              style=\"display:none;\">\n",
              "        \n",
              "  <svg xmlns=\"http://www.w3.org/2000/svg\" height=\"24px\"viewBox=\"0 0 24 24\"\n",
              "       width=\"24px\">\n",
              "    <path d=\"M0 0h24v24H0V0z\" fill=\"none\"/>\n",
              "    <path d=\"M18.56 5.44l.94 2.06.94-2.06 2.06-.94-2.06-.94-.94-2.06-.94 2.06-2.06.94zm-11 1L8.5 8.5l.94-2.06 2.06-.94-2.06-.94L8.5 2.5l-.94 2.06-2.06.94zm10 10l.94 2.06.94-2.06 2.06-.94-2.06-.94-.94-2.06-.94 2.06-2.06.94z\"/><path d=\"M17.41 7.96l-1.37-1.37c-.4-.4-.92-.59-1.43-.59-.52 0-1.04.2-1.43.59L10.3 9.45l-7.72 7.72c-.78.78-.78 2.05 0 2.83L4 21.41c.39.39.9.59 1.41.59.51 0 1.02-.2 1.41-.59l7.78-7.78 2.81-2.81c.8-.78.8-2.07 0-2.86zM5.41 20L4 18.59l7.72-7.72 1.47 1.35L5.41 20z\"/>\n",
              "  </svg>\n",
              "      </button>\n",
              "      \n",
              "  <style>\n",
              "    .colab-df-container {\n",
              "      display:flex;\n",
              "      flex-wrap:wrap;\n",
              "      gap: 12px;\n",
              "    }\n",
              "\n",
              "    .colab-df-convert {\n",
              "      background-color: #E8F0FE;\n",
              "      border: none;\n",
              "      border-radius: 50%;\n",
              "      cursor: pointer;\n",
              "      display: none;\n",
              "      fill: #1967D2;\n",
              "      height: 32px;\n",
              "      padding: 0 0 0 0;\n",
              "      width: 32px;\n",
              "    }\n",
              "\n",
              "    .colab-df-convert:hover {\n",
              "      background-color: #E2EBFA;\n",
              "      box-shadow: 0px 1px 2px rgba(60, 64, 67, 0.3), 0px 1px 3px 1px rgba(60, 64, 67, 0.15);\n",
              "      fill: #174EA6;\n",
              "    }\n",
              "\n",
              "    [theme=dark] .colab-df-convert {\n",
              "      background-color: #3B4455;\n",
              "      fill: #D2E3FC;\n",
              "    }\n",
              "\n",
              "    [theme=dark] .colab-df-convert:hover {\n",
              "      background-color: #434B5C;\n",
              "      box-shadow: 0px 1px 3px 1px rgba(0, 0, 0, 0.15);\n",
              "      filter: drop-shadow(0px 1px 2px rgba(0, 0, 0, 0.3));\n",
              "      fill: #FFFFFF;\n",
              "    }\n",
              "  </style>\n",
              "\n",
              "      <script>\n",
              "        const buttonEl =\n",
              "          document.querySelector('#df-6d9f44ab-49f0-4e1b-8c6a-44f49074e96c button.colab-df-convert');\n",
              "        buttonEl.style.display =\n",
              "          google.colab.kernel.accessAllowed ? 'block' : 'none';\n",
              "\n",
              "        async function convertToInteractive(key) {\n",
              "          const element = document.querySelector('#df-6d9f44ab-49f0-4e1b-8c6a-44f49074e96c');\n",
              "          const dataTable =\n",
              "            await google.colab.kernel.invokeFunction('convertToInteractive',\n",
              "                                                     [key], {});\n",
              "          if (!dataTable) return;\n",
              "\n",
              "          const docLinkHtml = 'Like what you see? Visit the ' +\n",
              "            '<a target=\"_blank\" href=https://colab.research.google.com/notebooks/data_table.ipynb>data table notebook</a>'\n",
              "            + ' to learn more about interactive tables.';\n",
              "          element.innerHTML = '';\n",
              "          dataTable['output_type'] = 'display_data';\n",
              "          await google.colab.output.renderOutput(dataTable, element);\n",
              "          const docLink = document.createElement('div');\n",
              "          docLink.innerHTML = docLinkHtml;\n",
              "          element.appendChild(docLink);\n",
              "        }\n",
              "      </script>\n",
              "    </div>\n",
              "  </div>\n",
              "  "
            ],
            "text/plain": [
              "     sepal length (cm)  sepal width (cm)  ...  target  target_names\n",
              "73                 6.1               2.8  ...       1    versicolor\n",
              "18                 5.7               3.8  ...       0        setosa\n",
              "118                7.7               2.6  ...       2     virginica\n",
              "78                 6.0               2.9  ...       1    versicolor\n",
              "76                 6.8               2.8  ...       1    versicolor\n",
              "31                 5.4               3.4  ...       0        setosa\n",
              "\n",
              "[6 rows x 6 columns]"
            ]
          },
          "metadata": {},
          "execution_count": 7
        }
      ]
    },
    {
      "cell_type": "code",
      "source": [
        "from sklearn.model_selection import train_test_split\n",
        "df_train, df_test = train_test_split(df, test_size=0.3)"
      ],
      "metadata": {
        "id": "TSiy1NsTYKlt"
      },
      "execution_count": null,
      "outputs": []
    },
    {
      "cell_type": "code",
      "source": [
        "print(df_train.shape[0], df_test.shape[0])"
      ],
      "metadata": {
        "colab": {
          "base_uri": "https://localhost:8080/"
        },
        "id": "qp_9HoSHYiPl",
        "outputId": "8fae0189-2ab7-48f5-8703-f3467dbc6073"
      },
      "execution_count": null,
      "outputs": [
        {
          "output_type": "stream",
          "name": "stdout",
          "text": [
            "105 45\n"
          ]
        }
      ]
    },
    {
      "cell_type": "code",
      "source": [
        "print(df_train.columns)"
      ],
      "metadata": {
        "colab": {
          "base_uri": "https://localhost:8080/"
        },
        "id": "IkoeNiDzYr9h",
        "outputId": "385b7fc9-4cb6-401f-c9c8-7d84b5c029e4"
      },
      "execution_count": null,
      "outputs": [
        {
          "output_type": "stream",
          "name": "stdout",
          "text": [
            "Index(['sepal length (cm)', 'sepal width (cm)', 'petal length (cm)',\n",
            "       'petal width (cm)', 'target', 'target_names'],\n",
            "      dtype='object')\n"
          ]
        }
      ]
    },
    {
      "cell_type": "code",
      "source": [
        "x_train = df_train[iris.feature_names]\n",
        "x_test = df_test[iris.feature_names]\n",
        "\n",
        "y_train = df_train['target']\n",
        "y_test = df_test['target']"
      ],
      "metadata": {
        "id": "6d9EEm0KY0-W"
      },
      "execution_count": null,
      "outputs": []
    },
    {
      "cell_type": "code",
      "source": [
        "from sklearn.tree import DecisionTreeClassifier\n",
        "\n",
        "clf = DecisionTreeClassifier()"
      ],
      "metadata": {
        "id": "Q4lKBFQRZfBB"
      },
      "execution_count": null,
      "outputs": []
    },
    {
      "cell_type": "code",
      "source": [
        "clf.fit(x_train, y_train)"
      ],
      "metadata": {
        "colab": {
          "base_uri": "https://localhost:8080/"
        },
        "id": "ovsn-4WOZphb",
        "outputId": "928bfbba-92f4-4591-85aa-56651a37ca63"
      },
      "execution_count": null,
      "outputs": [
        {
          "output_type": "execute_result",
          "data": {
            "text/plain": [
              "DecisionTreeClassifier()"
            ]
          },
          "metadata": {},
          "execution_count": 13
        }
      ]
    },
    {
      "cell_type": "code",
      "source": [
        "y_pred = clf.predict(x_test)"
      ],
      "metadata": {
        "id": "maN0rtM0Zs-h"
      },
      "execution_count": null,
      "outputs": []
    },
    {
      "cell_type": "code",
      "source": [
        "from sklearn.metrics import accuracy_score"
      ],
      "metadata": {
        "id": "gDuVhG-AZyPT"
      },
      "execution_count": null,
      "outputs": []
    },
    {
      "cell_type": "code",
      "source": [
        "accuracy_score(y_test, y_pred)"
      ],
      "metadata": {
        "colab": {
          "base_uri": "https://localhost:8080/"
        },
        "id": "_i4N6Q8zZ2Z2",
        "outputId": "93b09ff7-c558-409b-d391-4fb204100447"
      },
      "execution_count": null,
      "outputs": [
        {
          "output_type": "execute_result",
          "data": {
            "text/plain": [
              "0.9777777777777777"
            ]
          },
          "metadata": {},
          "execution_count": 16
        }
      ]
    },
    {
      "cell_type": "code",
      "source": [
        "pd.DataFrame(\n",
        "    {\n",
        "        'feature_names': iris.feature_names,\n",
        "        'feature_importances': clf.feature_importances_\n",
        "    }\n",
        ").sort_values(\n",
        "    'feature_importances', ascending=False\n",
        ").set_index('feature_names')"
      ],
      "metadata": {
        "colab": {
          "base_uri": "https://localhost:8080/",
          "height": 206
        },
        "id": "-jvB0-aKZ6ok",
        "outputId": "31521458-e379-47ca-ab01-b4fc66cd1876"
      },
      "execution_count": null,
      "outputs": [
        {
          "output_type": "execute_result",
          "data": {
            "text/html": [
              "\n",
              "  <div id=\"df-966853b4-b0ec-4897-89a2-1b0b68c21794\">\n",
              "    <div class=\"colab-df-container\">\n",
              "      <div>\n",
              "<style scoped>\n",
              "    .dataframe tbody tr th:only-of-type {\n",
              "        vertical-align: middle;\n",
              "    }\n",
              "\n",
              "    .dataframe tbody tr th {\n",
              "        vertical-align: top;\n",
              "    }\n",
              "\n",
              "    .dataframe thead th {\n",
              "        text-align: right;\n",
              "    }\n",
              "</style>\n",
              "<table border=\"1\" class=\"dataframe\">\n",
              "  <thead>\n",
              "    <tr style=\"text-align: right;\">\n",
              "      <th></th>\n",
              "      <th>feature_importances</th>\n",
              "    </tr>\n",
              "    <tr>\n",
              "      <th>feature_names</th>\n",
              "      <th></th>\n",
              "    </tr>\n",
              "  </thead>\n",
              "  <tbody>\n",
              "    <tr>\n",
              "      <th>petal width (cm)</th>\n",
              "      <td>0.869710</td>\n",
              "    </tr>\n",
              "    <tr>\n",
              "      <th>petal length (cm)</th>\n",
              "      <td>0.085968</td>\n",
              "    </tr>\n",
              "    <tr>\n",
              "      <th>sepal width (cm)</th>\n",
              "      <td>0.035743</td>\n",
              "    </tr>\n",
              "    <tr>\n",
              "      <th>sepal length (cm)</th>\n",
              "      <td>0.008578</td>\n",
              "    </tr>\n",
              "  </tbody>\n",
              "</table>\n",
              "</div>\n",
              "      <button class=\"colab-df-convert\" onclick=\"convertToInteractive('df-966853b4-b0ec-4897-89a2-1b0b68c21794')\"\n",
              "              title=\"Convert this dataframe to an interactive table.\"\n",
              "              style=\"display:none;\">\n",
              "        \n",
              "  <svg xmlns=\"http://www.w3.org/2000/svg\" height=\"24px\"viewBox=\"0 0 24 24\"\n",
              "       width=\"24px\">\n",
              "    <path d=\"M0 0h24v24H0V0z\" fill=\"none\"/>\n",
              "    <path d=\"M18.56 5.44l.94 2.06.94-2.06 2.06-.94-2.06-.94-.94-2.06-.94 2.06-2.06.94zm-11 1L8.5 8.5l.94-2.06 2.06-.94-2.06-.94L8.5 2.5l-.94 2.06-2.06.94zm10 10l.94 2.06.94-2.06 2.06-.94-2.06-.94-.94-2.06-.94 2.06-2.06.94z\"/><path d=\"M17.41 7.96l-1.37-1.37c-.4-.4-.92-.59-1.43-.59-.52 0-1.04.2-1.43.59L10.3 9.45l-7.72 7.72c-.78.78-.78 2.05 0 2.83L4 21.41c.39.39.9.59 1.41.59.51 0 1.02-.2 1.41-.59l7.78-7.78 2.81-2.81c.8-.78.8-2.07 0-2.86zM5.41 20L4 18.59l7.72-7.72 1.47 1.35L5.41 20z\"/>\n",
              "  </svg>\n",
              "      </button>\n",
              "      \n",
              "  <style>\n",
              "    .colab-df-container {\n",
              "      display:flex;\n",
              "      flex-wrap:wrap;\n",
              "      gap: 12px;\n",
              "    }\n",
              "\n",
              "    .colab-df-convert {\n",
              "      background-color: #E8F0FE;\n",
              "      border: none;\n",
              "      border-radius: 50%;\n",
              "      cursor: pointer;\n",
              "      display: none;\n",
              "      fill: #1967D2;\n",
              "      height: 32px;\n",
              "      padding: 0 0 0 0;\n",
              "      width: 32px;\n",
              "    }\n",
              "\n",
              "    .colab-df-convert:hover {\n",
              "      background-color: #E2EBFA;\n",
              "      box-shadow: 0px 1px 2px rgba(60, 64, 67, 0.3), 0px 1px 3px 1px rgba(60, 64, 67, 0.15);\n",
              "      fill: #174EA6;\n",
              "    }\n",
              "\n",
              "    [theme=dark] .colab-df-convert {\n",
              "      background-color: #3B4455;\n",
              "      fill: #D2E3FC;\n",
              "    }\n",
              "\n",
              "    [theme=dark] .colab-df-convert:hover {\n",
              "      background-color: #434B5C;\n",
              "      box-shadow: 0px 1px 3px 1px rgba(0, 0, 0, 0.15);\n",
              "      filter: drop-shadow(0px 1px 2px rgba(0, 0, 0, 0.3));\n",
              "      fill: #FFFFFF;\n",
              "    }\n",
              "  </style>\n",
              "\n",
              "      <script>\n",
              "        const buttonEl =\n",
              "          document.querySelector('#df-966853b4-b0ec-4897-89a2-1b0b68c21794 button.colab-df-convert');\n",
              "        buttonEl.style.display =\n",
              "          google.colab.kernel.accessAllowed ? 'block' : 'none';\n",
              "\n",
              "        async function convertToInteractive(key) {\n",
              "          const element = document.querySelector('#df-966853b4-b0ec-4897-89a2-1b0b68c21794');\n",
              "          const dataTable =\n",
              "            await google.colab.kernel.invokeFunction('convertToInteractive',\n",
              "                                                     [key], {});\n",
              "          if (!dataTable) return;\n",
              "\n",
              "          const docLinkHtml = 'Like what you see? Visit the ' +\n",
              "            '<a target=\"_blank\" href=https://colab.research.google.com/notebooks/data_table.ipynb>data table notebook</a>'\n",
              "            + ' to learn more about interactive tables.';\n",
              "          element.innerHTML = '';\n",
              "          dataTable['output_type'] = 'display_data';\n",
              "          await google.colab.output.renderOutput(dataTable, element);\n",
              "          const docLink = document.createElement('div');\n",
              "          docLink.innerHTML = docLinkHtml;\n",
              "          element.appendChild(docLink);\n",
              "        }\n",
              "      </script>\n",
              "    </div>\n",
              "  </div>\n",
              "  "
            ],
            "text/plain": [
              "                   feature_importances\n",
              "feature_names                         \n",
              "petal width (cm)              0.869710\n",
              "petal length (cm)             0.085968\n",
              "sepal width (cm)              0.035743\n",
              "sepal length (cm)             0.008578"
            ]
          },
          "metadata": {},
          "execution_count": 17
        }
      ]
    },
    {
      "cell_type": "code",
      "source": [
        "# displaying internal tree decision\n",
        "from sklearn.tree import export_text\n",
        "print(\n",
        "    export_text(clf, feature_names=iris.feature_names, spacing=3, decimals=1)\n",
        ")"
      ],
      "metadata": {
        "colab": {
          "base_uri": "https://localhost:8080/"
        },
        "id": "zn-XKuQpaeYz",
        "outputId": "de003b99-c9bd-4030-f27c-0d79f4c8f6e2"
      },
      "execution_count": null,
      "outputs": [
        {
          "output_type": "stream",
          "name": "stdout",
          "text": [
            "|--- petal width (cm) <= 0.8\n",
            "|   |--- class: 0\n",
            "|--- petal width (cm) >  0.8\n",
            "|   |--- petal width (cm) <= 1.7\n",
            "|   |   |--- petal length (cm) <= 5.0\n",
            "|   |   |   |--- class: 1\n",
            "|   |   |--- petal length (cm) >  5.0\n",
            "|   |   |   |--- sepal length (cm) <= 6.0\n",
            "|   |   |   |   |--- sepal width (cm) <= 2.5\n",
            "|   |   |   |   |   |--- class: 2\n",
            "|   |   |   |   |--- sepal width (cm) >  2.5\n",
            "|   |   |   |   |   |--- class: 1\n",
            "|   |   |   |--- sepal length (cm) >  6.0\n",
            "|   |   |   |   |--- class: 2\n",
            "|   |--- petal width (cm) >  1.7\n",
            "|   |   |--- petal length (cm) <= 4.9\n",
            "|   |   |   |--- sepal width (cm) <= 3.1\n",
            "|   |   |   |   |--- class: 2\n",
            "|   |   |   |--- sepal width (cm) >  3.1\n",
            "|   |   |   |   |--- class: 1\n",
            "|   |   |--- petal length (cm) >  4.9\n",
            "|   |   |   |--- class: 2\n",
            "\n"
          ]
        }
      ]
    },
    {
      "cell_type": "code",
      "source": [
        "# a lis to store accuracy score from each iteration\n",
        "accuracy_scores = []"
      ],
      "metadata": {
        "id": "h4Tp5s1za0ih"
      },
      "execution_count": null,
      "outputs": []
    },
    {
      "cell_type": "code",
      "source": [
        "for _ in range(100):\n",
        "  # at each iteration freshly split the data\n",
        "  df_train, df_test = train_test_split(df, test_size=0.3)\n",
        "  x_train = df_train[iris.feature_names]\n",
        "  x_test = df_test[iris.feature_names]\n",
        "\n",
        "  y_train = df_train['target']\n",
        "  y_test = df_test['target']\n",
        "\n",
        "  # then create a new classifier\n",
        "  clf = DecisionTreeClassifier()\n",
        "  clf.fit(x_train, y_train)\n",
        "  y_pred = clf.predict(x_test)\n",
        "\n",
        "  # finally append the score to the list\n",
        "  accuracy_scores.append(round(accuracy_score(y_test, y_pred), 3))"
      ],
      "metadata": {
        "id": "OtCEAO6_bavw"
      },
      "execution_count": null,
      "outputs": []
    },
    {
      "cell_type": "code",
      "source": [
        "# convert accuracy_score to a Series for stat\n",
        "accuracy_scores = pd.Series(accuracy_scores)"
      ],
      "metadata": {
        "id": "UO46YlD0cYDb"
      },
      "execution_count": null,
      "outputs": []
    },
    {
      "cell_type": "code",
      "source": [
        "%matplotlib inline"
      ],
      "metadata": {
        "id": "lSmhy9vYck0f"
      },
      "execution_count": null,
      "outputs": []
    },
    {
      "cell_type": "code",
      "source": [
        "accuracy_scores.plot(\n",
        "    title='Distribution of classifier accuracy',\n",
        "    kind='box'\n",
        ")\n",
        "\n",
        "print(\n",
        "    'Average Score: {:.3} [5th percentile: {:.3} & 95th percentile: {:.3}'.format(\n",
        "        accuracy_scores.mean(),\n",
        "        accuracy_scores.quantile(.05),\n",
        "        accuracy_scores.quantile(.95)\n",
        "    )\n",
        ")"
      ],
      "metadata": {
        "colab": {
          "base_uri": "https://localhost:8080/",
          "height": 298
        },
        "id": "nsRSvTi8csLP",
        "outputId": "05dc0b2a-089d-43e0-e054-3b01c1afae9c"
      },
      "execution_count": null,
      "outputs": [
        {
          "output_type": "stream",
          "name": "stdout",
          "text": [
            "Average Score: 0.948 [5th percentile: 0.889 & 95th percentile: 1.0\n"
          ]
        },
        {
          "output_type": "display_data",
          "data": {
            "image/png": "[encoded data removed]",
            "text/plain": [
              "<Figure size 432x288 with 1 Axes>"
            ]
          },
          "metadata": {
            "needs_background": "light"
          }
        }
      ]
    },
    {
      "cell_type": "code",
      "source": [
        "# shufflesplit\n",
        "from sklearn.model_selection import ShuffleSplit\n",
        "\n",
        "accuracy_scores = []\n",
        "\n",
        "# create shuffle split instance\n",
        "rs = ShuffleSplit(n_splits=100, test_size=0.3)\n",
        "\n",
        "# get 100 pairs of indices\n",
        "for train_index, test_index in rs.split(df):\n",
        "\n",
        "  x_train = df.loc[train_index, iris.feature_names]\n",
        "  x_test = df.loc[test_index, iris.feature_names]\n",
        "\n",
        "  y_train = df.loc[train_index, 'target']\n",
        "  y_test = df.loc[test_index, 'target']\n",
        "\n",
        "  clf = DecisionTreeClassifier()\n",
        "\n",
        "  clf.fit(x_train, y_train)\n",
        "  y_pred = clf.predict(x_test)\n",
        "\n",
        "  accuracy_scores.append(round(accuracy_score(y_test, y_pred), 3))\n",
        "\n",
        "accuracy_scores = pd.Series(accuracy_scores)"
      ],
      "metadata": {
        "id": "0bdiAMkYda38"
      },
      "execution_count": null,
      "outputs": []
    },
    {
      "cell_type": "code",
      "source": [
        "accuracy_scores.plot(\n",
        "    title='Distribution of classifier accuracy',\n",
        "    kind='box'\n",
        ")\n",
        "\n",
        "print(\n",
        "    'Average Score: {:.3} [5th percentile: {:.3} & 95th percentile: {:.3}'.format(\n",
        "        accuracy_scores.mean(),\n",
        "        accuracy_scores.quantile(.05),\n",
        "        accuracy_scores.quantile(.95)\n",
        "    )\n",
        ")"
      ],
      "metadata": {
        "colab": {
          "base_uri": "https://localhost:8080/",
          "height": 298
        },
        "id": "7W3tQTt4fIMs",
        "outputId": "d2b9c4a2-b22b-43f9-bc6a-82bcc06a8da4"
      },
      "execution_count": null,
      "outputs": [
        {
          "output_type": "stream",
          "name": "stdout",
          "text": [
            "Average Score: 0.943 [5th percentile: 0.889 & 95th percentile: 1.0\n"
          ]
        },
        {
          "output_type": "display_data",
          "data": {
            "image/png": "[encoded data removed]",
            "text/plain": [
              "<Figure size 432x288 with 1 Axes>"
            ]
          },
          "metadata": {
            "needs_background": "light"
          }
        }
      ]
    },
    {
      "cell_type": "code",
      "source": [
        "# cross validate\n",
        "from sklearn.model_selection import cross_validate\n",
        "\n",
        "clf = DecisionTreeClassifier()\n",
        "rs = ShuffleSplit(n_splits=100, test_size=0.3)\n",
        "\n",
        "x = df[iris.feature_names]\n",
        "y = df['target']\n",
        "\n",
        "cv_results = cross_validate(\n",
        "    clf, x, y, cv=rs, scoring='accuracy'\n",
        ")\n",
        "\n",
        "accuracy_scores = pd.Series(cv_results['test_score'])"
      ],
      "metadata": {
        "id": "Ltik9kdbfQp6"
      },
      "execution_count": null,
      "outputs": []
    },
    {
      "cell_type": "code",
      "source": [
        "accuracy_scores.plot(\n",
        "    title='Distribution of classifier accuracy',\n",
        "    kind='box'\n",
        ")\n",
        "\n",
        "print(\n",
        "    'Average Score: {:.3} [5th percentile: {:.3} & 95th percentile: {:.3}'.format(\n",
        "        accuracy_scores.mean(),\n",
        "        accuracy_scores.quantile(.05),\n",
        "        accuracy_scores.quantile(.95)\n",
        "    )\n",
        ")"
      ],
      "metadata": {
        "colab": {
          "base_uri": "https://localhost:8080/",
          "height": 298
        },
        "id": "gd11wKcYgCbd",
        "outputId": "ea2a379f-f9bd-4d63-d846-e8d5ebced63a"
      },
      "execution_count": null,
      "outputs": [
        {
          "output_type": "stream",
          "name": "stdout",
          "text": [
            "Average Score: 0.948 [5th percentile: 0.889 & 95th percentile: 1.0\n"
          ]
        },
        {
          "output_type": "display_data",
          "data": {
            "image/png": "[encoded data removed]",
            "text/plain": [
              "<Figure size 432x288 with 1 Axes>"
            ]
          },
          "metadata": {
            "needs_background": "light"
          }
        }
      ]
    },
    {
      "cell_type": "code",
      "source": [
        "# tuning hyperparameter\n",
        "\n",
        "for max_depth in [1, 2, 3, 4]:\n",
        "  # initialize a new classifier each iteration with different max_depth\n",
        "  clf = DecisionTreeClassifier(max_depth=max_depth)\n",
        "  \n",
        "  # initialize shuffle splitter\n",
        "  rs = ShuffleSplit(n_splits=20, test_size=0.25)\n",
        "\n",
        "  cv_results = cross_validate(\n",
        "      clf, x_train, y_train, cv=rs, scoring='accuracy'\n",
        "  )\n",
        "  accuracy_scores = pd.Series(cv_results['test_score'])\n",
        "\n",
        "  print(\n",
        "      '@ max_depth = {}: accuracy_scores: {}~{}'.format(\n",
        "          max_depth,\n",
        "          accuracy_scores.quantile(.1).round(3),\n",
        "          accuracy_scores.quantile(.9).round(3)\n",
        "      )\n",
        "  )"
      ],
      "metadata": {
        "colab": {
          "base_uri": "https://localhost:8080/"
        },
        "id": "xe5zEwaWgO_W",
        "outputId": "020dff9a-edf4-48f3-ccec-c2033cbdfdd2"
      },
      "execution_count": null,
      "outputs": [
        {
          "output_type": "stream",
          "name": "stdout",
          "text": [
            "@ max_depth = 1: accuracy_scores: 0.519~0.744\n",
            "@ max_depth = 2: accuracy_scores: 0.885~0.963\n",
            "@ max_depth = 3: accuracy_scores: 0.926~1.0\n",
            "@ max_depth = 4: accuracy_scores: 0.889~0.963\n"
          ]
        }
      ]
    },
    {
      "cell_type": "code",
      "source": [
        "import numpy as np\n",
        "import matplotlib.pyplot as plt\n",
        "\n",
        "def plot_decision_boundary(clf, x, y):\n",
        "\n",
        "  feature_names = x.columns\n",
        "  x, y = x.values, y.values\n",
        "\n",
        "  x_min, x_max = x[:,0].min(), x[:,0].max()\n",
        "  y_min, y_max = x[:,1].min(), x[:,1].max()\n",
        "\n",
        "  step = 0.02\n",
        "\n",
        "  xx, yy = np.meshgrid(\n",
        "      np.arange(x_min, x_max, step),\n",
        "      np.arange(y_min, y_max, step)\n",
        "  )\n",
        "\n",
        "  Z = clf.predict(np.c_[xx.ravel(), yy.ravel()])\n",
        "  Z = Z.reshape(xx.shape)\n",
        "\n",
        "  plt.figure(figsize=(12,8))\n",
        "  plt.contourf(xx, yy, Z, cmap='Paired_r', alpha=0.25)\n",
        "  plt.contour(xx, yy, Z, colors='k', linewidths=0.7)\n",
        "  plt.scatter(x[:,0], x[:,1], c=y, edgecolors='k')\n",
        "  plt.title(\"Tree Decision Boundaries\")\n",
        "  plt.xlabel(feature_names[0])\n",
        "  plt.ylabel(feature_names[1])\n",
        "\n",
        "x = df[['petal width (cm)', 'petal length (cm)']]\n",
        "y = df['target']\n",
        "\n",
        "clf = DecisionTreeClassifier()\n",
        "clf.fit(x,y)\n",
        "\n",
        "plot_decision_boundary(clf, x, y)"
      ],
      "metadata": {
        "colab": {
          "base_uri": "https://localhost:8080/",
          "height": 522
        },
        "id": "2O7YtyrUhxi_",
        "outputId": "6648b44f-b1d4-46f2-fc57-4fafb29c2887"
      },
      "execution_count": null,
      "outputs": [
        {
          "output_type": "stream",
          "name": "stderr",
          "text": [
            "/usr/local/lib/python3.7/dist-packages/sklearn/base.py:446: UserWarning: X does not have valid feature names, but DecisionTreeClassifier was fitted with feature names\n",
            "  \"X does not have valid feature names, but\"\n"
          ]
        },
        {
          "output_type": "display_data",
          "data": {
            "image/png": "[encoded data removed]",
            "text/plain": [
              "<Figure size 864x576 with 1 Axes>"
            ]
          },
          "metadata": {
            "needs_background": "light"
          }
        }
      ]
    },
    {
      "cell_type": "code",
      "source": [
        "df['petal length x width (cm)'] = df['petal length (cm)'] * df['petal width (cm)']\n",
        "df['sepal length x width (cm)'] = df['sepal length (cm)'] * df['sepal width (cm)']\n",
        "\n",
        "fig, ax = plt.subplots(1, 1, figsize=(12, 6));\n",
        "\n",
        "h_label = 'petal length x width (cm)'\n",
        "v_label = 'sepal length x width (cm)'\n",
        "\n",
        "for c in df['target'].value_counts().index.tolist():\n",
        "  df[df['target']==c].plot(\n",
        "      title='Class distribution vs the newly derived features',\n",
        "      kind='scatter',\n",
        "      x=h_label,\n",
        "      y=v_label,\n",
        "      color=['r','g','b'][c], # Each class get different color\n",
        "      marker=f'${c}$', # Use class id as marker\n",
        "      s=64,\n",
        "      alpha=0.5,\n",
        "      ax=ax\n",
        "  )\n",
        "\n",
        "fig.show()"
      ],
      "metadata": {
        "colab": {
          "base_uri": "https://localhost:8080/",
          "height": 361
        },
        "id": "RBOgqjuMJLS9",
        "outputId": "31c1490d-71e4-420d-e377-254f454c8c05"
      },
      "execution_count": null,
      "outputs": [
        {
          "output_type": "display_data",
          "data": {
            "image/png": "[encoded data removed]",
            "text/plain": [
              "<Figure size 864x432 with 1 Axes>"
            ]
          },
          "metadata": {
            "needs_background": "light"
          }
        }
      ]
    },
    {
      "cell_type": "code",
      "source": [
        "features_orig = iris.feature_names\n",
        "features_new = ['petal length x width (cm)', 'sepal length x width (cm)']\n",
        "\n",
        "accuracy_scores_orig = []\n",
        "accuracy_scores_new = []\n",
        "\n",
        "for _ in range(500):\n",
        "\n",
        "  df_train, df_test = train_test_split(df, test_size=0.3)\n",
        "\n",
        "  x_train_orig = df_train[features_orig]\n",
        "  x_test_orig = df_test[features_orig]\n",
        "  \n",
        "  x_train_new = df_train[features_new]\n",
        "  x_test_new = df_test[features_new]\n",
        "  \n",
        "  y_train = df_train['target']\n",
        "  y_test = df_test['target']\n",
        "\n",
        "  clf_orig = DecisionTreeClassifier(max_depth=2)\n",
        "  clf_new = DecisionTreeClassifier(max_depth=2)\n",
        "\n",
        "  clf_orig.fit(x_train_orig, y_train)\n",
        "  clf_new.fit(x_train_new, y_train)\n",
        "\n",
        "  y_pred_orig = clf_orig.predict(x_test_orig)\n",
        "  y_pred_new = clf_new.predict(x_test_new)\n",
        "\n",
        "  accuracy_scores_orig.append(round(accuracy_score(y_test, y_pred_orig),\n",
        "                                    3))\n",
        "  accuracy_scores_new.append(round(accuracy_score(y_test, y_pred_new),\n",
        "                                   3))\n",
        "\n",
        "accuracy_scores_orig = pd.Series(accuracy_scores_orig)\n",
        "accuracy_scores_new = pd.Series(accuracy_scores_new)"
      ],
      "metadata": {
        "id": "M8QuPn4oNMaT"
      },
      "execution_count": null,
      "outputs": []
    },
    {
      "cell_type": "code",
      "source": [
        "figs, axs = plt.subplots(1, 2, figsize=(16, 6), sharey=True);\n",
        "\n",
        "accuracy_scores_orig.plot(\n",
        "    title='Distribution of classifier accuracy [Original Features]',\n",
        "    kind='box',\n",
        "    grid=True,\n",
        "    ax=axs[0]\n",
        ")\n",
        "\n",
        "accuracy_scores_new.plot(\n",
        "    title='Distribution of classifier accuracy [New Features]',\n",
        "    kind='box',\n",
        "    grid=True,\n",
        "    ax=axs[1]\n",
        ")\n",
        "\n",
        "fig.show()"
      ],
      "metadata": {
        "colab": {
          "base_uri": "https://localhost:8080/",
          "height": 273
        },
        "id": "UnbL93G0jTWl",
        "outputId": "a1d57c3c-b948-40b0-a775-cf34369a0289"
      },
      "execution_count": null,
      "outputs": [
        {
          "output_type": "display_data",
          "data": {
            "image/png": "[encoded data removed]",
            "text/plain": [
              "<Figure size 1152x432 with 2 Axes>"
            ]
          },
          "metadata": {
            "needs_background": "light"
          }
        }
      ]
    },
    {
      "cell_type": "code",
      "source": [
        "# Predicting people's height\n",
        "# 200 samples needed from each\n",
        "n = 200\n",
        "\n",
        "# from each population we get 200 male and 200 female samples\n",
        "height_pop1_f = np.random.normal(loc=155, scale=4, size=n)\n",
        "height_pop1_m = np.random.normal(loc=175, scale=5, size=n)\n",
        "height_pop2_f = np.random.normal(loc=165, scale=15, size=n)\n",
        "height_pop2_m = np.random.normal(loc=185, scale=12, size=n)"
      ],
      "metadata": {
        "id": "z3_ltIYskJ1U"
      },
      "execution_count": null,
      "outputs": []
    },
    {
      "cell_type": "code",
      "source": [
        "# group all females together and all males together\n",
        "height_f = np.concatenate([height_pop1_f, height_pop2_f])\n",
        "height_m = np.concatenate([height_pop1_m, height_pop2_m])"
      ],
      "metadata": {
        "id": "bzE0Nrx62ylW"
      },
      "execution_count": null,
      "outputs": []
    },
    {
      "cell_type": "code",
      "source": [
        "df_height = pd.DataFrame(\n",
        "    {\n",
        "        'Gender': [1 for i in range(height_f.size)] +\n",
        "                  [2 for i in range(height_m.size)],\n",
        "        'Height': np.concatenate((height_f, height_m))\n",
        "    }\n",
        ")"
      ],
      "metadata": {
        "id": "ibLIxpEr3G2-"
      },
      "execution_count": null,
      "outputs": []
    },
    {
      "cell_type": "code",
      "source": [
        "fig, ax = plt.subplots(1, 1, figsize=(10, 5))\n",
        "\n",
        "df_height[df_height['Gender']==1]['Height'].plot(\n",
        "    label='Female', kind='hist',\n",
        "    bins=10, alpha=0.7, ax=ax\n",
        ")\n",
        "df_height[df_height['Gender']==2]['Height'].plot(\n",
        "    label='Male', kind='hist',\n",
        "    bins=10, alpha=0.7, ax=ax\n",
        ")\n",
        "\n",
        "ax.legend()\n",
        "fig.show()"
      ],
      "metadata": {
        "colab": {
          "base_uri": "https://localhost:8080/",
          "height": 320
        },
        "id": "OgSOU8R83pds",
        "outputId": "adffb7ae-2f41-48fe-e016-bde54c69f64e"
      },
      "execution_count": null,
      "outputs": [
        {
          "output_type": "display_data",
          "data": {
            "image/png": "[encoded data removed]",
            "text/plain": [
              "<Figure size 720x360 with 1 Axes>"
            ]
          },
          "metadata": {
            "needs_background": "light"
          }
        }
      ]
    },
    {
      "cell_type": "code",
      "source": [
        "df_height.groupby('Gender')[['Height']].agg([np.mean, np.median]).round(1)"
      ],
      "metadata": {
        "colab": {
          "base_uri": "https://localhost:8080/",
          "height": 174
        },
        "id": "hikmOMWI4ThP",
        "outputId": "108a551c-9ba2-44e9-a849-16e571da928e"
      },
      "execution_count": null,
      "outputs": [
        {
          "output_type": "execute_result",
          "data": {
            "text/html": [
              "\n",
              "  <div id=\"df-4ce03e90-7a90-4f0a-ac67-e0fe04211190\">\n",
              "    <div class=\"colab-df-container\">\n",
              "      <div>\n",
              "<style scoped>\n",
              "    .dataframe tbody tr th:only-of-type {\n",
              "        vertical-align: middle;\n",
              "    }\n",
              "\n",
              "    .dataframe tbody tr th {\n",
              "        vertical-align: top;\n",
              "    }\n",
              "\n",
              "    .dataframe thead tr th {\n",
              "        text-align: left;\n",
              "    }\n",
              "\n",
              "    .dataframe thead tr:last-of-type th {\n",
              "        text-align: right;\n",
              "    }\n",
              "</style>\n",
              "<table border=\"1\" class=\"dataframe\">\n",
              "  <thead>\n",
              "    <tr>\n",
              "      <th></th>\n",
              "      <th colspan=\"2\" halign=\"left\">Height</th>\n",
              "    </tr>\n",
              "    <tr>\n",
              "      <th></th>\n",
              "      <th>mean</th>\n",
              "      <th>median</th>\n",
              "    </tr>\n",
              "    <tr>\n",
              "      <th>Gender</th>\n",
              "      <th></th>\n",
              "      <th></th>\n",
              "    </tr>\n",
              "  </thead>\n",
              "  <tbody>\n",
              "    <tr>\n",
              "      <th>1</th>\n",
              "      <td>159.4</td>\n",
              "      <td>156.7</td>\n",
              "    </tr>\n",
              "    <tr>\n",
              "      <th>2</th>\n",
              "      <td>180.3</td>\n",
              "      <td>178.8</td>\n",
              "    </tr>\n",
              "  </tbody>\n",
              "</table>\n",
              "</div>\n",
              "      <button class=\"colab-df-convert\" onclick=\"convertToInteractive('df-4ce03e90-7a90-4f0a-ac67-e0fe04211190')\"\n",
              "              title=\"Convert this dataframe to an interactive table.\"\n",
              "              style=\"display:none;\">\n",
              "        \n",
              "  <svg xmlns=\"http://www.w3.org/2000/svg\" height=\"24px\"viewBox=\"0 0 24 24\"\n",
              "       width=\"24px\">\n",
              "    <path d=\"M0 0h24v24H0V0z\" fill=\"none\"/>\n",
              "    <path d=\"M18.56 5.44l.94 2.06.94-2.06 2.06-.94-2.06-.94-.94-2.06-.94 2.06-2.06.94zm-11 1L8.5 8.5l.94-2.06 2.06-.94-2.06-.94L8.5 2.5l-.94 2.06-2.06.94zm10 10l.94 2.06.94-2.06 2.06-.94-2.06-.94-.94-2.06-.94 2.06-2.06.94z\"/><path d=\"M17.41 7.96l-1.37-1.37c-.4-.4-.92-.59-1.43-.59-.52 0-1.04.2-1.43.59L10.3 9.45l-7.72 7.72c-.78.78-.78 2.05 0 2.83L4 21.41c.39.39.9.59 1.41.59.51 0 1.02-.2 1.41-.59l7.78-7.78 2.81-2.81c.8-.78.8-2.07 0-2.86zM5.41 20L4 18.59l7.72-7.72 1.47 1.35L5.41 20z\"/>\n",
              "  </svg>\n",
              "      </button>\n",
              "      \n",
              "  <style>\n",
              "    .colab-df-container {\n",
              "      display:flex;\n",
              "      flex-wrap:wrap;\n",
              "      gap: 12px;\n",
              "    }\n",
              "\n",
              "    .colab-df-convert {\n",
              "      background-color: #E8F0FE;\n",
              "      border: none;\n",
              "      border-radius: 50%;\n",
              "      cursor: pointer;\n",
              "      display: none;\n",
              "      fill: #1967D2;\n",
              "      height: 32px;\n",
              "      padding: 0 0 0 0;\n",
              "      width: 32px;\n",
              "    }\n",
              "\n",
              "    .colab-df-convert:hover {\n",
              "      background-color: #E2EBFA;\n",
              "      box-shadow: 0px 1px 2px rgba(60, 64, 67, 0.3), 0px 1px 3px 1px rgba(60, 64, 67, 0.15);\n",
              "      fill: #174EA6;\n",
              "    }\n",
              "\n",
              "    [theme=dark] .colab-df-convert {\n",
              "      background-color: #3B4455;\n",
              "      fill: #D2E3FC;\n",
              "    }\n",
              "\n",
              "    [theme=dark] .colab-df-convert:hover {\n",
              "      background-color: #434B5C;\n",
              "      box-shadow: 0px 1px 3px 1px rgba(0, 0, 0, 0.15);\n",
              "      filter: drop-shadow(0px 1px 2px rgba(0, 0, 0, 0.3));\n",
              "      fill: #FFFFFF;\n",
              "    }\n",
              "  </style>\n",
              "\n",
              "      <script>\n",
              "        const buttonEl =\n",
              "          document.querySelector('#df-4ce03e90-7a90-4f0a-ac67-e0fe04211190 button.colab-df-convert');\n",
              "        buttonEl.style.display =\n",
              "          google.colab.kernel.accessAllowed ? 'block' : 'none';\n",
              "\n",
              "        async function convertToInteractive(key) {\n",
              "          const element = document.querySelector('#df-4ce03e90-7a90-4f0a-ac67-e0fe04211190');\n",
              "          const dataTable =\n",
              "            await google.colab.kernel.invokeFunction('convertToInteractive',\n",
              "                                                     [key], {});\n",
              "          if (!dataTable) return;\n",
              "\n",
              "          const docLinkHtml = 'Like what you see? Visit the ' +\n",
              "            '<a target=\"_blank\" href=https://colab.research.google.com/notebooks/data_table.ipynb>data table notebook</a>'\n",
              "            + ' to learn more about interactive tables.';\n",
              "          element.innerHTML = '';\n",
              "          dataTable['output_type'] = 'display_data';\n",
              "          await google.colab.output.renderOutput(dataTable, element);\n",
              "          const docLink = document.createElement('div');\n",
              "          docLink.innerHTML = docLinkHtml;\n",
              "          element.appendChild(docLink);\n",
              "        }\n",
              "      </script>\n",
              "    </div>\n",
              "  </div>\n",
              "  "
            ],
            "text/plain": [
              "       Height       \n",
              "         mean median\n",
              "Gender              \n",
              "1       159.4  156.7\n",
              "2       180.3  178.8"
            ]
          },
          "metadata": {},
          "execution_count": 37
        }
      ]
    },
    {
      "cell_type": "code",
      "source": [
        "df_train, df_test = train_test_split(df_height, test_size=0.3)\n",
        "x_train, x_test = df_train[['Gender']], df_test[['Gender']]\n",
        "y_train, y_test = df_train['Height'], df_test['Height']"
      ],
      "metadata": {
        "id": "eemS7fbK4uUn"
      },
      "execution_count": null,
      "outputs": []
    },
    {
      "cell_type": "code",
      "source": [
        "from sklearn.tree import DecisionTreeRegressor\n",
        "from sklearn.metrics import mean_squared_error, mean_absolute_error\n",
        "\n",
        "for criterion in ['squared_error', 'absolute_error']:\n",
        "  rgrsr = DecisionTreeRegressor(criterion=criterion)\n",
        "  rgrsr.fit(x_train, y_train)\n",
        "\n",
        "  print(f'criterion={criterion}:\\n')\n",
        "  print(export_text(rgrsr, feature_names=['Gender'], spacing=3, decimals=1))\n",
        "  # regressor's evaluation\n",
        "  y_pred = rgrsr.predict(x_test)\n",
        "  print('MSE:', mean_squared_error(y_test, y_pred))\n",
        "  print('MAE:', mean_absolute_error(y_test, y_pred), '\\n')"
      ],
      "metadata": {
        "colab": {
          "base_uri": "https://localhost:8080/"
        },
        "id": "cZh3nLSc5Sxd",
        "outputId": "07e46b1b-bd78-49eb-a6e3-ef95c12625bb"
      },
      "execution_count": null,
      "outputs": [
        {
          "output_type": "stream",
          "name": "stdout",
          "text": [
            "criterion=squared_error:\n",
            "\n",
            "|--- Gender <= 1.5\n",
            "|   |--- value: [159.0]\n",
            "|--- Gender >  1.5\n",
            "|   |--- value: [180.7]\n",
            "\n",
            "MSE: 126.03985078208736\n",
            "MAE: 8.17620899536731 \n",
            "\n",
            "criterion=absolute_error:\n",
            "\n",
            "|--- Gender <= 1.5\n",
            "|   |--- value: [156.7]\n",
            "|--- Gender >  1.5\n",
            "|   |--- value: [178.8]\n",
            "\n",
            "MSE: 131.13892531281985\n",
            "MAE: 8.026740852582906 \n",
            "\n"
          ]
        }
      ]
    },
    {
      "cell_type": "code",
      "source": [
        "# setting sample weights\n",
        "\n",
        "rgrsr = DecisionTreeRegressor(criterion='squared_error')\n",
        "sample_weight = y_train.apply(lambda h: 10 if h > 150 else 1)\n",
        "rgrsr.fit(x_train, y_train, sample_weight=sample_weight)\n",
        "print('Emphasis on \"below 150\":\\n')\n",
        "print(export_text(rgrsr, feature_names=['Gender'], spacing=3, decimals=1))"
      ],
      "metadata": {
        "colab": {
          "base_uri": "https://localhost:8080/"
        },
        "id": "1eEulw1t6EM9",
        "outputId": "150a6c2a-ce1c-4f85-a22d-20b9cfb091d1"
      },
      "execution_count": null,
      "outputs": [
        {
          "output_type": "stream",
          "name": "stdout",
          "text": [
            "Emphasis on \"below 150\":\n",
            "\n",
            "|--- Gender <= 1.5\n",
            "|   |--- value: [161.1]\n",
            "|--- Gender >  1.5\n",
            "|   |--- value: [180.8]\n",
            "\n"
          ]
        }
      ]
    },
    {
      "cell_type": "code",
      "source": [
        "sample_weight = y_train.apply(lambda h: 10 if h <= 150 else 1)\n",
        "rgrsr.fit(x_train, y_train, sample_weight=sample_weight)\n",
        "print('Emphasis on \"above 150\":\\n')\n",
        "print(export_text(rgrsr, feature_names=['Gender'], spacing=3, decimals=1))"
      ],
      "metadata": {
        "colab": {
          "base_uri": "https://localhost:8080/"
        },
        "id": "wCxU_bui64-U",
        "outputId": "84c693af-97c9-4afa-f5d7-2626191f582b"
      },
      "execution_count": null,
      "outputs": [
        {
          "output_type": "stream",
          "name": "stdout",
          "text": [
            "Emphasis on \"above 150\":\n",
            "\n",
            "|--- Gender <= 1.5\n",
            "|   |--- value: [151.2]\n",
            "|--- Gender >  1.5\n",
            "|   |--- value: [179.7]\n",
            "\n"
          ]
        }
      ]
    },
    {
      "cell_type": "code",
      "source": [
        ""
      ],
      "metadata": {
        "id": "CuCLUvcJ8vhT"
      },
      "execution_count": null,
      "outputs": []
    }
  ]
}