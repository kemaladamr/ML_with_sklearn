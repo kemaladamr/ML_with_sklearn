{
  "nbformat": 4,
  "nbformat_minor": 0,
  "metadata": {
    "colab": {
      "name": "LinearEquations.ipynb",
      "provenance": [],
      "collapsed_sections": [],
      "authorship_tag": "ABX9TyObunYWAKBFjv2QfkmGhwv2",
      "include_colab_link": true
    },
    "kernelspec": {
      "name": "python3",
      "display_name": "Python 3"
    },
    "language_info": {
      "name": "python"
    }
  },
  "cells": [
    {
      "cell_type": "markdown",
      "metadata": {
        "id": "view-in-github",
        "colab_type": "text"
      },
      "source": [
        "<a href=\"https://colab.research.google.com/github/kemaladamr/ML_with_sklearn/blob/main/LinearEquations.ipynb\" target=\"_parent\"><img src=\"https://colab.research.google.com/assets/colab-badge.svg\" alt=\"Open In Colab\"/></a>"
      ]
    },
    {
      "cell_type": "code",
      "source": [
        "import warnings\n",
        "warnings.filterwarnings('ignore')"
      ],
      "metadata": {
        "id": "6ylwWMpD9QSX"
      },
      "execution_count": 1,
      "outputs": []
    },
    {
      "cell_type": "code",
      "execution_count": 2,
      "metadata": {
        "id": "vIDwDHxdKNLV"
      },
      "outputs": [],
      "source": [
        "from sklearn.linear_model import LinearRegression\n",
        "from sklearn.datasets import load_boston\n",
        "\n",
        "import pandas as pd\n",
        "\n",
        "boston = load_boston()\n",
        "\n",
        "df_dataset = pd.DataFrame(\n",
        "    boston.data,\n",
        "    columns=boston.feature_names\n",
        ")\n",
        "df_dataset['target'] = boston.target"
      ]
    },
    {
      "cell_type": "code",
      "source": [
        "import matplotlib.pyplot as plt\n",
        "%matplotlib inline"
      ],
      "metadata": {
        "id": "_ShXoIZINbOq"
      },
      "execution_count": 3,
      "outputs": []
    },
    {
      "cell_type": "code",
      "source": [
        "import pandas as pd\n",
        "import numpy as np\n",
        "\n",
        "\n",
        "# data_url = \"http://lib.stat.cmu.edu/datasets/boston\"\n",
        "# raw_df = pd.read_csv(data_url, sep=\"\\s+\", skiprows=22, header=None)\n",
        "# data = np.hstack([raw_df.values[::2, :], raw_df.values[1::2, :2]])\n",
        "# target = raw_df.values[1::2, 2]"
      ],
      "metadata": {
        "id": "v-Oo7Ph6LK7o"
      },
      "execution_count": 4,
      "outputs": []
    },
    {
      "cell_type": "code",
      "source": [
        "# raw_df.head()"
      ],
      "metadata": {
        "id": "WhhLbzJk9kFI"
      },
      "execution_count": 7,
      "outputs": []
    },
    {
      "cell_type": "code",
      "source": [
        "df_dataset.head()"
      ],
      "metadata": {
        "colab": {
          "base_uri": "https://localhost:8080/",
          "height": 206
        },
        "id": "HIjno4PhMXsv",
        "outputId": "3166174d-9cd8-431d-b120-f929493dcaa0"
      },
      "execution_count": 5,
      "outputs": [
        {
          "output_type": "execute_result",
          "data": {
            "text/html": [
              "\n",
              "  <div id=\"df-3b716a7d-c69d-41d0-a993-8cc485c6c88d\">\n",
              "    <div class=\"colab-df-container\">\n",
              "      <div>\n",
              "<style scoped>\n",
              "    .dataframe tbody tr th:only-of-type {\n",
              "        vertical-align: middle;\n",
              "    }\n",
              "\n",
              "    .dataframe tbody tr th {\n",
              "        vertical-align: top;\n",
              "    }\n",
              "\n",
              "    .dataframe thead th {\n",
              "        text-align: right;\n",
              "    }\n",
              "</style>\n",
              "<table border=\"1\" class=\"dataframe\">\n",
              "  <thead>\n",
              "    <tr style=\"text-align: right;\">\n",
              "      <th></th>\n",
              "      <th>CRIM</th>\n",
              "      <th>ZN</th>\n",
              "      <th>INDUS</th>\n",
              "      <th>CHAS</th>\n",
              "      <th>NOX</th>\n",
              "      <th>RM</th>\n",
              "      <th>AGE</th>\n",
              "      <th>DIS</th>\n",
              "      <th>RAD</th>\n",
              "      <th>TAX</th>\n",
              "      <th>PTRATIO</th>\n",
              "      <th>B</th>\n",
              "      <th>LSTAT</th>\n",
              "      <th>target</th>\n",
              "    </tr>\n",
              "  </thead>\n",
              "  <tbody>\n",
              "    <tr>\n",
              "      <th>0</th>\n",
              "      <td>0.00632</td>\n",
              "      <td>18.0</td>\n",
              "      <td>2.31</td>\n",
              "      <td>0.0</td>\n",
              "      <td>0.538</td>\n",
              "      <td>6.575</td>\n",
              "      <td>65.2</td>\n",
              "      <td>4.0900</td>\n",
              "      <td>1.0</td>\n",
              "      <td>296.0</td>\n",
              "      <td>15.3</td>\n",
              "      <td>396.90</td>\n",
              "      <td>4.98</td>\n",
              "      <td>24.0</td>\n",
              "    </tr>\n",
              "    <tr>\n",
              "      <th>1</th>\n",
              "      <td>0.02731</td>\n",
              "      <td>0.0</td>\n",
              "      <td>7.07</td>\n",
              "      <td>0.0</td>\n",
              "      <td>0.469</td>\n",
              "      <td>6.421</td>\n",
              "      <td>78.9</td>\n",
              "      <td>4.9671</td>\n",
              "      <td>2.0</td>\n",
              "      <td>242.0</td>\n",
              "      <td>17.8</td>\n",
              "      <td>396.90</td>\n",
              "      <td>9.14</td>\n",
              "      <td>21.6</td>\n",
              "    </tr>\n",
              "    <tr>\n",
              "      <th>2</th>\n",
              "      <td>0.02729</td>\n",
              "      <td>0.0</td>\n",
              "      <td>7.07</td>\n",
              "      <td>0.0</td>\n",
              "      <td>0.469</td>\n",
              "      <td>7.185</td>\n",
              "      <td>61.1</td>\n",
              "      <td>4.9671</td>\n",
              "      <td>2.0</td>\n",
              "      <td>242.0</td>\n",
              "      <td>17.8</td>\n",
              "      <td>392.83</td>\n",
              "      <td>4.03</td>\n",
              "      <td>34.7</td>\n",
              "    </tr>\n",
              "    <tr>\n",
              "      <th>3</th>\n",
              "      <td>0.03237</td>\n",
              "      <td>0.0</td>\n",
              "      <td>2.18</td>\n",
              "      <td>0.0</td>\n",
              "      <td>0.458</td>\n",
              "      <td>6.998</td>\n",
              "      <td>45.8</td>\n",
              "      <td>6.0622</td>\n",
              "      <td>3.0</td>\n",
              "      <td>222.0</td>\n",
              "      <td>18.7</td>\n",
              "      <td>394.63</td>\n",
              "      <td>2.94</td>\n",
              "      <td>33.4</td>\n",
              "    </tr>\n",
              "    <tr>\n",
              "      <th>4</th>\n",
              "      <td>0.06905</td>\n",
              "      <td>0.0</td>\n",
              "      <td>2.18</td>\n",
              "      <td>0.0</td>\n",
              "      <td>0.458</td>\n",
              "      <td>7.147</td>\n",
              "      <td>54.2</td>\n",
              "      <td>6.0622</td>\n",
              "      <td>3.0</td>\n",
              "      <td>222.0</td>\n",
              "      <td>18.7</td>\n",
              "      <td>396.90</td>\n",
              "      <td>5.33</td>\n",
              "      <td>36.2</td>\n",
              "    </tr>\n",
              "  </tbody>\n",
              "</table>\n",
              "</div>\n",
              "      <button class=\"colab-df-convert\" onclick=\"convertToInteractive('df-3b716a7d-c69d-41d0-a993-8cc485c6c88d')\"\n",
              "              title=\"Convert this dataframe to an interactive table.\"\n",
              "              style=\"display:none;\">\n",
              "        \n",
              "  <svg xmlns=\"http://www.w3.org/2000/svg\" height=\"24px\"viewBox=\"0 0 24 24\"\n",
              "       width=\"24px\">\n",
              "    <path d=\"M0 0h24v24H0V0z\" fill=\"none\"/>\n",
              "    <path d=\"M18.56 5.44l.94 2.06.94-2.06 2.06-.94-2.06-.94-.94-2.06-.94 2.06-2.06.94zm-11 1L8.5 8.5l.94-2.06 2.06-.94-2.06-.94L8.5 2.5l-.94 2.06-2.06.94zm10 10l.94 2.06.94-2.06 2.06-.94-2.06-.94-.94-2.06-.94 2.06-2.06.94z\"/><path d=\"M17.41 7.96l-1.37-1.37c-.4-.4-.92-.59-1.43-.59-.52 0-1.04.2-1.43.59L10.3 9.45l-7.72 7.72c-.78.78-.78 2.05 0 2.83L4 21.41c.39.39.9.59 1.41.59.51 0 1.02-.2 1.41-.59l7.78-7.78 2.81-2.81c.8-.78.8-2.07 0-2.86zM5.41 20L4 18.59l7.72-7.72 1.47 1.35L5.41 20z\"/>\n",
              "  </svg>\n",
              "      </button>\n",
              "      \n",
              "  <style>\n",
              "    .colab-df-container {\n",
              "      display:flex;\n",
              "      flex-wrap:wrap;\n",
              "      gap: 12px;\n",
              "    }\n",
              "\n",
              "    .colab-df-convert {\n",
              "      background-color: #E8F0FE;\n",
              "      border: none;\n",
              "      border-radius: 50%;\n",
              "      cursor: pointer;\n",
              "      display: none;\n",
              "      fill: #1967D2;\n",
              "      height: 32px;\n",
              "      padding: 0 0 0 0;\n",
              "      width: 32px;\n",
              "    }\n",
              "\n",
              "    .colab-df-convert:hover {\n",
              "      background-color: #E2EBFA;\n",
              "      box-shadow: 0px 1px 2px rgba(60, 64, 67, 0.3), 0px 1px 3px 1px rgba(60, 64, 67, 0.15);\n",
              "      fill: #174EA6;\n",
              "    }\n",
              "\n",
              "    [theme=dark] .colab-df-convert {\n",
              "      background-color: #3B4455;\n",
              "      fill: #D2E3FC;\n",
              "    }\n",
              "\n",
              "    [theme=dark] .colab-df-convert:hover {\n",
              "      background-color: #434B5C;\n",
              "      box-shadow: 0px 1px 3px 1px rgba(0, 0, 0, 0.15);\n",
              "      filter: drop-shadow(0px 1px 2px rgba(0, 0, 0, 0.3));\n",
              "      fill: #FFFFFF;\n",
              "    }\n",
              "  </style>\n",
              "\n",
              "      <script>\n",
              "        const buttonEl =\n",
              "          document.querySelector('#df-3b716a7d-c69d-41d0-a993-8cc485c6c88d button.colab-df-convert');\n",
              "        buttonEl.style.display =\n",
              "          google.colab.kernel.accessAllowed ? 'block' : 'none';\n",
              "\n",
              "        async function convertToInteractive(key) {\n",
              "          const element = document.querySelector('#df-3b716a7d-c69d-41d0-a993-8cc485c6c88d');\n",
              "          const dataTable =\n",
              "            await google.colab.kernel.invokeFunction('convertToInteractive',\n",
              "                                                     [key], {});\n",
              "          if (!dataTable) return;\n",
              "\n",
              "          const docLinkHtml = 'Like what you see? Visit the ' +\n",
              "            '<a target=\"_blank\" href=https://colab.research.google.com/notebooks/data_table.ipynb>data table notebook</a>'\n",
              "            + ' to learn more about interactive tables.';\n",
              "          element.innerHTML = '';\n",
              "          dataTable['output_type'] = 'display_data';\n",
              "          await google.colab.output.renderOutput(dataTable, element);\n",
              "          const docLink = document.createElement('div');\n",
              "          docLink.innerHTML = docLinkHtml;\n",
              "          element.appendChild(docLink);\n",
              "        }\n",
              "      </script>\n",
              "    </div>\n",
              "  </div>\n",
              "  "
            ],
            "text/plain": [
              "      CRIM    ZN  INDUS  CHAS    NOX  ...    TAX  PTRATIO       B  LSTAT  target\n",
              "0  0.00632  18.0   2.31   0.0  0.538  ...  296.0     15.3  396.90   4.98    24.0\n",
              "1  0.02731   0.0   7.07   0.0  0.469  ...  242.0     17.8  396.90   9.14    21.6\n",
              "2  0.02729   0.0   7.07   0.0  0.469  ...  242.0     17.8  392.83   4.03    34.7\n",
              "3  0.03237   0.0   2.18   0.0  0.458  ...  222.0     18.7  394.63   2.94    33.4\n",
              "4  0.06905   0.0   2.18   0.0  0.458  ...  222.0     18.7  396.90   5.33    36.2\n",
              "\n",
              "[5 rows x 14 columns]"
            ]
          },
          "metadata": {},
          "execution_count": 5
        }
      ]
    },
    {
      "cell_type": "code",
      "source": [
        "# data exploration\n",
        "\n",
        "df_dataset.isnull().sum().sum()"
      ],
      "metadata": {
        "colab": {
          "base_uri": "https://localhost:8080/"
        },
        "id": "_kehg3v9MaKw",
        "outputId": "1d835700-5c8a-4a3b-e7a2-d81ca4808f12"
      },
      "execution_count": 8,
      "outputs": [
        {
          "output_type": "execute_result",
          "data": {
            "text/plain": [
              "0"
            ]
          },
          "metadata": {},
          "execution_count": 8
        }
      ]
    },
    {
      "cell_type": "code",
      "source": [
        "fig, axs = plt.subplots(1, 2, figsize=(16, 8))\n",
        "\n",
        "df_dataset['target'].plot(\n",
        "    title='Distribution of target prices', kind='hist', ax=axs[0]\n",
        ")\n",
        "\n",
        "df_dataset[boston.feature_names].mean().plot(\n",
        "    title='Mean of features', kind='bar', ax=axs[1]\n",
        ")\n",
        "\n",
        "fig.show()"
      ],
      "metadata": {
        "colab": {
          "base_uri": "https://localhost:8080/",
          "height": 471
        },
        "id": "YgRAgmTnMqM3",
        "outputId": "2e471da7-dc75-4b7c-f931-2240419f584b"
      },
      "execution_count": 9,
      "outputs": [
        {
          "output_type": "display_data",
          "data": {
            "image/png": "[encoded data removed]",
            "text/plain": [
              "<Figure size 1152x576 with 2 Axes>"
            ]
          },
          "metadata": {
            "needs_background": "light"
          }
        }
      ]
    },
    {
      "cell_type": "code",
      "source": [
        "df_dataset['target'].describe(percentiles=[.9, .95, .99])"
      ],
      "metadata": {
        "colab": {
          "base_uri": "https://localhost:8080/"
        },
        "id": "qxFFvIVfNV8S",
        "outputId": "a389e81c-1c61-4a58-ec8a-c50d3fbf5fe9"
      },
      "execution_count": 10,
      "outputs": [
        {
          "output_type": "execute_result",
          "data": {
            "text/plain": [
              "count    506.000000\n",
              "mean      22.532806\n",
              "std        9.197104\n",
              "min        5.000000\n",
              "50%       21.200000\n",
              "90%       34.800000\n",
              "95%       43.400000\n",
              "99%       50.000000\n",
              "max       50.000000\n",
              "Name: target, dtype: float64"
            ]
          },
          "metadata": {},
          "execution_count": 10
        }
      ]
    },
    {
      "cell_type": "code",
      "source": [
        "# splitting data\n",
        "from sklearn.model_selection import train_test_split\n",
        "\n",
        "df_train, df_test = train_test_split(df_dataset, test_size=0.4)\n",
        "\n",
        "x_train = df_train[boston.feature_names]\n",
        "x_test = df_test[boston.feature_names]\n",
        "\n",
        "y_train = df_train['target']\n",
        "y_test = df_test['target']\n"
      ],
      "metadata": {
        "id": "1Sww6-7QN0fQ"
      },
      "execution_count": 11,
      "outputs": []
    },
    {
      "cell_type": "code",
      "source": [
        "# calculating baseline\n",
        "from sklearn.dummy import DummyRegressor\n",
        "\n",
        "baselin = DummyRegressor(strategy='mean')\n",
        "baselin.fit(x_train, y_train)\n",
        "\n",
        "y_test_baselin = baselin.predict(x_test)"
      ],
      "metadata": {
        "id": "9ZlrIcIaOXvz"
      },
      "execution_count": 12,
      "outputs": []
    },
    {
      "cell_type": "code",
      "source": [
        "# training linear regressor\n",
        "from sklearn.linear_model import LinearRegression\n",
        "\n",
        "reg = LinearRegression()\n",
        "reg.fit(x_train, y_train)\n",
        "\n",
        "y_test_pred = reg.predict(x_test)"
      ],
      "metadata": {
        "id": "JHjz0UhXO269"
      },
      "execution_count": 13,
      "outputs": []
    },
    {
      "cell_type": "code",
      "source": [
        "# evaluating model's accuracy\n",
        "from sklearn.metrics import r2_score, mean_absolute_error, mean_squared_error\n",
        "\n",
        "def print_error_scores(y_test,y_test_pred, y_test_baselin):\n",
        "  \n",
        "  print(\n",
        "      'R2 Regressor = {:.2f} vs Baseline = {:.2f}'.format(\n",
        "          r2_score(y_test, y_test_pred),\n",
        "          r2_score(y_test, y_test_baselin)\n",
        "      )\n",
        "  )\n",
        "\n",
        "  print(\n",
        "      'MAE Regressor = {:.2f} vs Baseline = {:.2f}'.format(\n",
        "          mean_absolute_error(y_test, y_test_pred),\n",
        "          mean_absolute_error(y_test, y_test_baselin)\n",
        "      )\n",
        "  )\n",
        "\n",
        "  print(\n",
        "      'MSE Regressor = {:.2f} vs Baseline = {:.2f}'.format(\n",
        "          mean_squared_error(y_test, y_test_pred),\n",
        "          mean_squared_error(y_test, y_test_baselin)\n",
        "      )\n",
        "  )\n",
        "\n",
        "print_error_scores(y_test,y_test_pred, y_test_baselin)"
      ],
      "metadata": {
        "colab": {
          "base_uri": "https://localhost:8080/"
        },
        "id": "xC518iE9P-Z7",
        "outputId": "0b8303ac-3a95-4269-b3f5-2fb3ca1739b9"
      },
      "execution_count": 14,
      "outputs": [
        {
          "output_type": "stream",
          "name": "stdout",
          "text": [
            "R2 Regressor = 0.69 vs Baseline = -0.00\n",
            "MAE Regressor = 3.44 vs Baseline = 6.21\n",
            "MSE Regressor = 23.08 vs Baseline = 74.23\n"
          ]
        }
      ]
    },
    {
      "cell_type": "code",
      "source": [
        "# show feature coefficients\n",
        "df_feature_importance = pd.DataFrame(\n",
        "    {\n",
        "        'Features': x_train.columns,\n",
        "        'Coeff': reg.coef_,\n",
        "        'ABS(Coeff)': abs(reg.coef_)\n",
        "    }\n",
        ").set_index('Features').sort_values('Coeff', ascending=False)"
      ],
      "metadata": {
        "id": "qJ08Ok1CRFT6"
      },
      "execution_count": 15,
      "outputs": []
    },
    {
      "cell_type": "code",
      "source": [
        "df_feature_importance"
      ],
      "metadata": {
        "colab": {
          "base_uri": "https://localhost:8080/",
          "height": 488
        },
        "id": "9iPChq_x4ScG",
        "outputId": "e2648d9f-1cdc-4c57-a7df-7e18a86f4d82"
      },
      "execution_count": 16,
      "outputs": [
        {
          "output_type": "execute_result",
          "data": {
            "text/html": [
              "\n",
              "  <div id=\"df-de168dae-3118-4afe-afcc-218f9546e88d\">\n",
              "    <div class=\"colab-df-container\">\n",
              "      <div>\n",
              "<style scoped>\n",
              "    .dataframe tbody tr th:only-of-type {\n",
              "        vertical-align: middle;\n",
              "    }\n",
              "\n",
              "    .dataframe tbody tr th {\n",
              "        vertical-align: top;\n",
              "    }\n",
              "\n",
              "    .dataframe thead th {\n",
              "        text-align: right;\n",
              "    }\n",
              "</style>\n",
              "<table border=\"1\" class=\"dataframe\">\n",
              "  <thead>\n",
              "    <tr style=\"text-align: right;\">\n",
              "      <th></th>\n",
              "      <th>Coeff</th>\n",
              "      <th>ABS(Coeff)</th>\n",
              "    </tr>\n",
              "    <tr>\n",
              "      <th>Features</th>\n",
              "      <th></th>\n",
              "      <th></th>\n",
              "    </tr>\n",
              "  </thead>\n",
              "  <tbody>\n",
              "    <tr>\n",
              "      <th>RM</th>\n",
              "      <td>3.429560</td>\n",
              "      <td>3.429560</td>\n",
              "    </tr>\n",
              "    <tr>\n",
              "      <th>CHAS</th>\n",
              "      <td>1.652991</td>\n",
              "      <td>1.652991</td>\n",
              "    </tr>\n",
              "    <tr>\n",
              "      <th>RAD</th>\n",
              "      <td>0.255582</td>\n",
              "      <td>0.255582</td>\n",
              "    </tr>\n",
              "    <tr>\n",
              "      <th>INDUS</th>\n",
              "      <td>0.107502</td>\n",
              "      <td>0.107502</td>\n",
              "    </tr>\n",
              "    <tr>\n",
              "      <th>ZN</th>\n",
              "      <td>0.062473</td>\n",
              "      <td>0.062473</td>\n",
              "    </tr>\n",
              "    <tr>\n",
              "      <th>AGE</th>\n",
              "      <td>0.025708</td>\n",
              "      <td>0.025708</td>\n",
              "    </tr>\n",
              "    <tr>\n",
              "      <th>B</th>\n",
              "      <td>0.011506</td>\n",
              "      <td>0.011506</td>\n",
              "    </tr>\n",
              "    <tr>\n",
              "      <th>TAX</th>\n",
              "      <td>-0.011426</td>\n",
              "      <td>0.011426</td>\n",
              "    </tr>\n",
              "    <tr>\n",
              "      <th>CRIM</th>\n",
              "      <td>-0.123467</td>\n",
              "      <td>0.123467</td>\n",
              "    </tr>\n",
              "    <tr>\n",
              "      <th>LSTAT</th>\n",
              "      <td>-0.570715</td>\n",
              "      <td>0.570715</td>\n",
              "    </tr>\n",
              "    <tr>\n",
              "      <th>PTRATIO</th>\n",
              "      <td>-1.033626</td>\n",
              "      <td>1.033626</td>\n",
              "    </tr>\n",
              "    <tr>\n",
              "      <th>DIS</th>\n",
              "      <td>-1.313291</td>\n",
              "      <td>1.313291</td>\n",
              "    </tr>\n",
              "    <tr>\n",
              "      <th>NOX</th>\n",
              "      <td>-19.478868</td>\n",
              "      <td>19.478868</td>\n",
              "    </tr>\n",
              "  </tbody>\n",
              "</table>\n",
              "</div>\n",
              "      <button class=\"colab-df-convert\" onclick=\"convertToInteractive('df-de168dae-3118-4afe-afcc-218f9546e88d')\"\n",
              "              title=\"Convert this dataframe to an interactive table.\"\n",
              "              style=\"display:none;\">\n",
              "        \n",
              "  <svg xmlns=\"http://www.w3.org/2000/svg\" height=\"24px\"viewBox=\"0 0 24 24\"\n",
              "       width=\"24px\">\n",
              "    <path d=\"M0 0h24v24H0V0z\" fill=\"none\"/>\n",
              "    <path d=\"M18.56 5.44l.94 2.06.94-2.06 2.06-.94-2.06-.94-.94-2.06-.94 2.06-2.06.94zm-11 1L8.5 8.5l.94-2.06 2.06-.94-2.06-.94L8.5 2.5l-.94 2.06-2.06.94zm10 10l.94 2.06.94-2.06 2.06-.94-2.06-.94-.94-2.06-.94 2.06-2.06.94z\"/><path d=\"M17.41 7.96l-1.37-1.37c-.4-.4-.92-.59-1.43-.59-.52 0-1.04.2-1.43.59L10.3 9.45l-7.72 7.72c-.78.78-.78 2.05 0 2.83L4 21.41c.39.39.9.59 1.41.59.51 0 1.02-.2 1.41-.59l7.78-7.78 2.81-2.81c.8-.78.8-2.07 0-2.86zM5.41 20L4 18.59l7.72-7.72 1.47 1.35L5.41 20z\"/>\n",
              "  </svg>\n",
              "      </button>\n",
              "      \n",
              "  <style>\n",
              "    .colab-df-container {\n",
              "      display:flex;\n",
              "      flex-wrap:wrap;\n",
              "      gap: 12px;\n",
              "    }\n",
              "\n",
              "    .colab-df-convert {\n",
              "      background-color: #E8F0FE;\n",
              "      border: none;\n",
              "      border-radius: 50%;\n",
              "      cursor: pointer;\n",
              "      display: none;\n",
              "      fill: #1967D2;\n",
              "      height: 32px;\n",
              "      padding: 0 0 0 0;\n",
              "      width: 32px;\n",
              "    }\n",
              "\n",
              "    .colab-df-convert:hover {\n",
              "      background-color: #E2EBFA;\n",
              "      box-shadow: 0px 1px 2px rgba(60, 64, 67, 0.3), 0px 1px 3px 1px rgba(60, 64, 67, 0.15);\n",
              "      fill: #174EA6;\n",
              "    }\n",
              "\n",
              "    [theme=dark] .colab-df-convert {\n",
              "      background-color: #3B4455;\n",
              "      fill: #D2E3FC;\n",
              "    }\n",
              "\n",
              "    [theme=dark] .colab-df-convert:hover {\n",
              "      background-color: #434B5C;\n",
              "      box-shadow: 0px 1px 3px 1px rgba(0, 0, 0, 0.15);\n",
              "      filter: drop-shadow(0px 1px 2px rgba(0, 0, 0, 0.3));\n",
              "      fill: #FFFFFF;\n",
              "    }\n",
              "  </style>\n",
              "\n",
              "      <script>\n",
              "        const buttonEl =\n",
              "          document.querySelector('#df-de168dae-3118-4afe-afcc-218f9546e88d button.colab-df-convert');\n",
              "        buttonEl.style.display =\n",
              "          google.colab.kernel.accessAllowed ? 'block' : 'none';\n",
              "\n",
              "        async function convertToInteractive(key) {\n",
              "          const element = document.querySelector('#df-de168dae-3118-4afe-afcc-218f9546e88d');\n",
              "          const dataTable =\n",
              "            await google.colab.kernel.invokeFunction('convertToInteractive',\n",
              "                                                     [key], {});\n",
              "          if (!dataTable) return;\n",
              "\n",
              "          const docLinkHtml = 'Like what you see? Visit the ' +\n",
              "            '<a target=\"_blank\" href=https://colab.research.google.com/notebooks/data_table.ipynb>data table notebook</a>'\n",
              "            + ' to learn more about interactive tables.';\n",
              "          element.innerHTML = '';\n",
              "          dataTable['output_type'] = 'display_data';\n",
              "          await google.colab.output.renderOutput(dataTable, element);\n",
              "          const docLink = document.createElement('div');\n",
              "          docLink.innerHTML = docLinkHtml;\n",
              "          element.appendChild(docLink);\n",
              "        }\n",
              "      </script>\n",
              "    </div>\n",
              "  </div>\n",
              "  "
            ],
            "text/plain": [
              "              Coeff  ABS(Coeff)\n",
              "Features                       \n",
              "RM         3.429560    3.429560\n",
              "CHAS       1.652991    1.652991\n",
              "RAD        0.255582    0.255582\n",
              "INDUS      0.107502    0.107502\n",
              "ZN         0.062473    0.062473\n",
              "AGE        0.025708    0.025708\n",
              "B          0.011506    0.011506\n",
              "TAX       -0.011426    0.011426\n",
              "CRIM      -0.123467    0.123467\n",
              "LSTAT     -0.570715    0.570715\n",
              "PTRATIO   -1.033626    1.033626\n",
              "DIS       -1.313291    1.313291\n",
              "NOX      -19.478868   19.478868"
            ]
          },
          "metadata": {},
          "execution_count": 16
        }
      ]
    },
    {
      "cell_type": "code",
      "source": [
        "# scaling\n",
        "from sklearn.preprocessing import MinMaxScaler\n",
        "\n",
        "scaler = MinMaxScaler()\n",
        "reg = LinearRegression()\n",
        "\n",
        "scaler.fit(x_train)\n",
        "x_train_scaled = scaler.transform(x_train)\n",
        "# x_train_scaled = scaler.fit_transform(x_train)\n",
        "x_test_scaled = scaler.transform(x_test)\n",
        "\n",
        "reg.fit(x_train_scaled, y_train)\n",
        "y_test_pred = reg.predict(x_test_scaled)"
      ],
      "metadata": {
        "id": "CzM0sHCq4c4P"
      },
      "execution_count": 18,
      "outputs": []
    },
    {
      "cell_type": "code",
      "source": [
        "df_feature_importance = pd.DataFrame(\n",
        "    {\n",
        "        'Features': x_train.columns,\n",
        "        'Coeff': reg.coef_,\n",
        "        'ABS(Coeff)': abs(reg.coef_)\n",
        "    }\n",
        ").set_index('Features').sort_values('Coeff', ascending=False)\n",
        "\n",
        "df_feature_importance"
      ],
      "metadata": {
        "colab": {
          "base_uri": "https://localhost:8080/",
          "height": 488
        },
        "id": "twXLdYiC5dAY",
        "outputId": "6203b5bc-6609-4f3b-fb22-51cf0f3fe266"
      },
      "execution_count": 19,
      "outputs": [
        {
          "output_type": "execute_result",
          "data": {
            "text/html": [
              "\n",
              "  <div id=\"df-b2a8ae27-82ea-4b19-bbe0-c2e7fc1d5dc6\">\n",
              "    <div class=\"colab-df-container\">\n",
              "      <div>\n",
              "<style scoped>\n",
              "    .dataframe tbody tr th:only-of-type {\n",
              "        vertical-align: middle;\n",
              "    }\n",
              "\n",
              "    .dataframe tbody tr th {\n",
              "        vertical-align: top;\n",
              "    }\n",
              "\n",
              "    .dataframe thead th {\n",
              "        text-align: right;\n",
              "    }\n",
              "</style>\n",
              "<table border=\"1\" class=\"dataframe\">\n",
              "  <thead>\n",
              "    <tr style=\"text-align: right;\">\n",
              "      <th></th>\n",
              "      <th>Coeff</th>\n",
              "      <th>ABS(Coeff)</th>\n",
              "    </tr>\n",
              "    <tr>\n",
              "      <th>Features</th>\n",
              "      <th></th>\n",
              "      <th></th>\n",
              "    </tr>\n",
              "  </thead>\n",
              "  <tbody>\n",
              "    <tr>\n",
              "      <th>RM</th>\n",
              "      <td>17.898876</td>\n",
              "      <td>17.898876</td>\n",
              "    </tr>\n",
              "    <tr>\n",
              "      <th>ZN</th>\n",
              "      <td>5.934921</td>\n",
              "      <td>5.934921</td>\n",
              "    </tr>\n",
              "    <tr>\n",
              "      <th>RAD</th>\n",
              "      <td>5.878379</td>\n",
              "      <td>5.878379</td>\n",
              "    </tr>\n",
              "    <tr>\n",
              "      <th>B</th>\n",
              "      <td>4.563180</td>\n",
              "      <td>4.563180</td>\n",
              "    </tr>\n",
              "    <tr>\n",
              "      <th>INDUS</th>\n",
              "      <td>2.932644</td>\n",
              "      <td>2.932644</td>\n",
              "    </tr>\n",
              "    <tr>\n",
              "      <th>AGE</th>\n",
              "      <td>2.496235</td>\n",
              "      <td>2.496235</td>\n",
              "    </tr>\n",
              "    <tr>\n",
              "      <th>CHAS</th>\n",
              "      <td>1.652991</td>\n",
              "      <td>1.652991</td>\n",
              "    </tr>\n",
              "    <tr>\n",
              "      <th>TAX</th>\n",
              "      <td>-5.987372</td>\n",
              "      <td>5.987372</td>\n",
              "    </tr>\n",
              "    <tr>\n",
              "      <th>NOX</th>\n",
              "      <td>-9.388814</td>\n",
              "      <td>9.388814</td>\n",
              "    </tr>\n",
              "    <tr>\n",
              "      <th>PTRATIO</th>\n",
              "      <td>-9.716085</td>\n",
              "      <td>9.716085</td>\n",
              "    </tr>\n",
              "    <tr>\n",
              "      <th>CRIM</th>\n",
              "      <td>-10.984829</td>\n",
              "      <td>10.984829</td>\n",
              "    </tr>\n",
              "    <tr>\n",
              "      <th>DIS</th>\n",
              "      <td>-14.432413</td>\n",
              "      <td>14.432413</td>\n",
              "    </tr>\n",
              "    <tr>\n",
              "      <th>LSTAT</th>\n",
              "      <td>-20.682712</td>\n",
              "      <td>20.682712</td>\n",
              "    </tr>\n",
              "  </tbody>\n",
              "</table>\n",
              "</div>\n",
              "      <button class=\"colab-df-convert\" onclick=\"convertToInteractive('df-b2a8ae27-82ea-4b19-bbe0-c2e7fc1d5dc6')\"\n",
              "              title=\"Convert this dataframe to an interactive table.\"\n",
              "              style=\"display:none;\">\n",
              "        \n",
              "  <svg xmlns=\"http://www.w3.org/2000/svg\" height=\"24px\"viewBox=\"0 0 24 24\"\n",
              "       width=\"24px\">\n",
              "    <path d=\"M0 0h24v24H0V0z\" fill=\"none\"/>\n",
              "    <path d=\"M18.56 5.44l.94 2.06.94-2.06 2.06-.94-2.06-.94-.94-2.06-.94 2.06-2.06.94zm-11 1L8.5 8.5l.94-2.06 2.06-.94-2.06-.94L8.5 2.5l-.94 2.06-2.06.94zm10 10l.94 2.06.94-2.06 2.06-.94-2.06-.94-.94-2.06-.94 2.06-2.06.94z\"/><path d=\"M17.41 7.96l-1.37-1.37c-.4-.4-.92-.59-1.43-.59-.52 0-1.04.2-1.43.59L10.3 9.45l-7.72 7.72c-.78.78-.78 2.05 0 2.83L4 21.41c.39.39.9.59 1.41.59.51 0 1.02-.2 1.41-.59l7.78-7.78 2.81-2.81c.8-.78.8-2.07 0-2.86zM5.41 20L4 18.59l7.72-7.72 1.47 1.35L5.41 20z\"/>\n",
              "  </svg>\n",
              "      </button>\n",
              "      \n",
              "  <style>\n",
              "    .colab-df-container {\n",
              "      display:flex;\n",
              "      flex-wrap:wrap;\n",
              "      gap: 12px;\n",
              "    }\n",
              "\n",
              "    .colab-df-convert {\n",
              "      background-color: #E8F0FE;\n",
              "      border: none;\n",
              "      border-radius: 50%;\n",
              "      cursor: pointer;\n",
              "      display: none;\n",
              "      fill: #1967D2;\n",
              "      height: 32px;\n",
              "      padding: 0 0 0 0;\n",
              "      width: 32px;\n",
              "    }\n",
              "\n",
              "    .colab-df-convert:hover {\n",
              "      background-color: #E2EBFA;\n",
              "      box-shadow: 0px 1px 2px rgba(60, 64, 67, 0.3), 0px 1px 3px 1px rgba(60, 64, 67, 0.15);\n",
              "      fill: #174EA6;\n",
              "    }\n",
              "\n",
              "    [theme=dark] .colab-df-convert {\n",
              "      background-color: #3B4455;\n",
              "      fill: #D2E3FC;\n",
              "    }\n",
              "\n",
              "    [theme=dark] .colab-df-convert:hover {\n",
              "      background-color: #434B5C;\n",
              "      box-shadow: 0px 1px 3px 1px rgba(0, 0, 0, 0.15);\n",
              "      filter: drop-shadow(0px 1px 2px rgba(0, 0, 0, 0.3));\n",
              "      fill: #FFFFFF;\n",
              "    }\n",
              "  </style>\n",
              "\n",
              "      <script>\n",
              "        const buttonEl =\n",
              "          document.querySelector('#df-b2a8ae27-82ea-4b19-bbe0-c2e7fc1d5dc6 button.colab-df-convert');\n",
              "        buttonEl.style.display =\n",
              "          google.colab.kernel.accessAllowed ? 'block' : 'none';\n",
              "\n",
              "        async function convertToInteractive(key) {\n",
              "          const element = document.querySelector('#df-b2a8ae27-82ea-4b19-bbe0-c2e7fc1d5dc6');\n",
              "          const dataTable =\n",
              "            await google.colab.kernel.invokeFunction('convertToInteractive',\n",
              "                                                     [key], {});\n",
              "          if (!dataTable) return;\n",
              "\n",
              "          const docLinkHtml = 'Like what you see? Visit the ' +\n",
              "            '<a target=\"_blank\" href=https://colab.research.google.com/notebooks/data_table.ipynb>data table notebook</a>'\n",
              "            + ' to learn more about interactive tables.';\n",
              "          element.innerHTML = '';\n",
              "          dataTable['output_type'] = 'display_data';\n",
              "          await google.colab.output.renderOutput(dataTable, element);\n",
              "          const docLink = document.createElement('div');\n",
              "          docLink.innerHTML = docLinkHtml;\n",
              "          element.appendChild(docLink);\n",
              "        }\n",
              "      </script>\n",
              "    </div>\n",
              "  </div>\n",
              "  "
            ],
            "text/plain": [
              "              Coeff  ABS(Coeff)\n",
              "Features                       \n",
              "RM        17.898876   17.898876\n",
              "ZN         5.934921    5.934921\n",
              "RAD        5.878379    5.878379\n",
              "B          4.563180    4.563180\n",
              "INDUS      2.932644    2.932644\n",
              "AGE        2.496235    2.496235\n",
              "CHAS       1.652991    1.652991\n",
              "TAX       -5.987372    5.987372\n",
              "NOX       -9.388814    9.388814\n",
              "PTRATIO   -9.716085    9.716085\n",
              "CRIM     -10.984829   10.984829\n",
              "DIS      -14.432413   14.432413\n",
              "LSTAT    -20.682712   20.682712"
            ]
          },
          "metadata": {},
          "execution_count": 19
        }
      ]
    },
    {
      "cell_type": "code",
      "source": [
        "# adding polynomial features\n",
        "from sklearn.preprocessing import PolynomialFeatures\n",
        "\n",
        "poly = PolynomialFeatures(degree=3)\n",
        "x_train_poly = poly.fit_transform(x_train)\n",
        "x_test_poly = poly.transform(x_test)"
      ],
      "metadata": {
        "id": "ESdKZZCf5yrB"
      },
      "execution_count": 20,
      "outputs": []
    },
    {
      "cell_type": "code",
      "source": [
        "feature_translator = [\n",
        "      (f'x{i}', feature) for i, feature in enumerate(x_train.columns, 0)\n",
        "]\n",
        "\n",
        "def translate_feature_names(s):\n",
        "  for key, val in feature_translator:\n",
        "    s = s.replace(key, val)\n",
        "  return s\n",
        "\n",
        "poly_features = [\n",
        "      translate_feature_names(f) for f in poly.get_feature_names()\n",
        "]\n",
        "\n",
        "x_train_poly = pd.DataFrame(x_train_poly, columns=poly_features)\n",
        "x_test_poly = pd.DataFrame(x_test_poly, columns=poly_features)"
      ],
      "metadata": {
        "id": "Ex3FtJwP6cP0"
      },
      "execution_count": 21,
      "outputs": []
    },
    {
      "cell_type": "code",
      "source": [
        "# Fitting linear regressor with the derived features\n",
        "reg = LinearRegression(fit_intercept=False)\n",
        "reg.fit(x_train_poly, y_train)\n",
        "\n",
        "y_test_pred = reg.predict(x_test_poly)\n",
        "\n",
        "print_error_scores(y_test,y_test_pred, y_test_baselin)"
      ],
      "metadata": {
        "colab": {
          "base_uri": "https://localhost:8080/"
        },
        "id": "2JCE5Wrz7nhP",
        "outputId": "5c7c7615-3d82-4c05-d247-37804092cc9a"
      },
      "execution_count": 22,
      "outputs": [
        {
          "output_type": "stream",
          "name": "stdout",
          "text": [
            "R2 Regressor = -82.00 vs Baseline = -0.00\n",
            "MAE Regressor = 27.38 vs Baseline = 6.21\n",
            "MSE Regressor = 6141.07 vs Baseline = 74.23\n"
          ]
        }
      ]
    },
    {
      "cell_type": "code",
      "source": [
        "# training lassso regressor\n",
        "from sklearn.linear_model import Ridge, Lasso\n",
        "\n",
        "reg = Lasso(fit_intercept=False)\n",
        "reg.fit(x_train_poly, y_train)\n",
        "\n",
        "y_test_pred = reg.predict(x_test_poly)"
      ],
      "metadata": {
        "id": "olwdHc-u9H7o"
      },
      "execution_count": 23,
      "outputs": []
    },
    {
      "cell_type": "code",
      "source": [
        "print_error_scores(y_test,y_test_pred, y_test_baselin)"
      ],
      "metadata": {
        "colab": {
          "base_uri": "https://localhost:8080/"
        },
        "id": "EMGN1HNqZuZ6",
        "outputId": "48c12696-0cb6-4890-96fc-e9ae6b91dd42"
      },
      "execution_count": 24,
      "outputs": [
        {
          "output_type": "stream",
          "name": "stdout",
          "text": [
            "R2 Regressor = 0.76 vs Baseline = -0.00\n",
            "MAE Regressor = 2.54 vs Baseline = 6.21\n",
            "MSE Regressor = 17.73 vs Baseline = 74.23\n"
          ]
        }
      ]
    },
    {
      "cell_type": "code",
      "source": [
        "# finding optimum regularization parameter\n",
        "\n",
        "from sklearn.linear_model import LassoCV\n",
        "\n",
        "# make a list of 50 values between 0.000001 & 1,000,000\n",
        "alphas = np.logspace(-6, 6, 50)\n",
        "\n",
        "# we will do 5-fold cross validation\n",
        "reg = LassoCV(alphas=alphas, fit_intercept=False, cv=5)\n",
        "reg.fit(x_train_poly, y_train)\n",
        "\n",
        "y_train_pred = reg.predict(x_train_poly)\n",
        "y_test_pred = reg.predict(x_test_poly)"
      ],
      "metadata": {
        "id": "llLu0ApSZ3c5"
      },
      "execution_count": 25,
      "outputs": []
    },
    {
      "cell_type": "code",
      "source": [
        "print(f\"LassoCV: Chosen alpha = {reg.alpha_}\")"
      ],
      "metadata": {
        "colab": {
          "base_uri": "https://localhost:8080/"
        },
        "id": "tWnQoS5GaoVw",
        "outputId": "67725949-7bfe-429c-b7f0-6558a7ab99b3"
      },
      "execution_count": 26,
      "outputs": [
        {
          "output_type": "stream",
          "name": "stdout",
          "text": [
            "LassoCV: Chosen alpha = 1151.3953993264481\n"
          ]
        }
      ]
    },
    {
      "cell_type": "code",
      "source": [
        "# n_folds equals to 5 here\n",
        "n_folds = reg.mse_path_.shape[1]\n",
        "\n",
        "# calculate the mean and standard error for MSEs\n",
        "mse_mean = reg.mse_path_.mean(axis=1)\n",
        "mse_std = reg.mse_path_.std(axis=1)\n",
        "# std error = std deviation / sqrt (number of samples)\n",
        "mse_std_error = mse_std / np.sqrt(n_folds)"
      ],
      "metadata": {
        "id": "xjoGWByNa8n-"
      },
      "execution_count": 27,
      "outputs": []
    },
    {
      "cell_type": "code",
      "source": [
        "fig, ax = plt.subplots(1, 1, figsize=(16, 8))\n",
        "\n",
        "# multiply by 1.96 for 95% Confidence Interval\n",
        "pd.DataFrame(\n",
        "    {\n",
        "        'alpha': reg.alphas_,\n",
        "        'Mean MSE': mse_mean,\n",
        "        'Upper Bound MSE': mse_mean + 1.96 * mse_std_error,\n",
        "        'Lower Bound MSE': mse_mean - 1.96 * mse_std_error\n",
        "    }\n",
        ").set_index('alpha')[\n",
        "  ['Mean MSE', 'Upper Bound MSE', 'Lower Bound MSE']\n",
        "].plot(\n",
        "    title='Regularization plot (MSE vs alpha)',\n",
        "    marker='.', logx=True, ax=ax\n",
        ")\n",
        "\n",
        "# color the confidence interval\n",
        "# plt.fill_between(\n",
        "#     reg.alphas_,\n",
        "#     mse_mean + 1.96 * mse_std_error,\n",
        "#     mse_mean - 1.96 * mse_std_error\n",
        "# )\n",
        "\n",
        "# print a vertical line for the choosen alpha\n",
        "ax.axvline(reg.alpha_, linestyle='--', color='k')\n",
        "ax.set_xlabel('Alpha')\n",
        "ax.set_ylabel('Mean Squared Error')"
      ],
      "metadata": {
        "colab": {
          "base_uri": "https://localhost:8080/",
          "height": 477
        },
        "id": "YNGfcllibrYO",
        "outputId": "d65a4704-30a2-4aab-a24a-36775b4d1344"
      },
      "execution_count": 29,
      "outputs": [
        {
          "output_type": "execute_result",
          "data": {
            "text/plain": [
              "Text(0, 0.5, 'Mean Squared Error')"
            ]
          },
          "metadata": {},
          "execution_count": 29
        },
        {
          "output_type": "display_data",
          "data": {
            "image/png": "[encoded data removed]",
            "text/plain": [
              "<Figure size 1152x576 with 1 Axes>"
            ]
          },
          "metadata": {
            "needs_background": "light"
          }
        }
      ]
    },
    {
      "cell_type": "code",
      "source": [
        "# find regression interval\n",
        "\n",
        "df_noisy = pd.DataFrame(\n",
        "    {\n",
        "        'x': np.random.randint(0, 30, size=150),\n",
        "        'noise': np.random.normal(loc=0.0, scale=5.0, size=150)\n",
        "    }\n",
        ")\n",
        "\n",
        "df_noisy['y'] = df_noisy['x'] + df_noisy['noise']"
      ],
      "metadata": {
        "id": "e4BR7vVPrSAO"
      },
      "execution_count": 30,
      "outputs": []
    },
    {
      "cell_type": "code",
      "source": [
        "df_noisy.plot(\n",
        "    kind='scatter', x='x', y='y'\n",
        ")"
      ],
      "metadata": {
        "colab": {
          "base_uri": "https://localhost:8080/",
          "height": 296
        },
        "id": "lASw3ct--Wjy",
        "outputId": "1c29ded0-c938-4330-89c8-9f761bb5973f"
      },
      "execution_count": 31,
      "outputs": [
        {
          "output_type": "execute_result",
          "data": {
            "text/plain": [
              "<matplotlib.axes._subplots.AxesSubplot at 0x7fbedc9d66d0>"
            ]
          },
          "metadata": {},
          "execution_count": 31
        },
        {
          "output_type": "display_data",
          "data": {
            "image/png": "[encoded data removed]",
            "text/plain": [
              "<Figure size 432x288 with 1 Axes>"
            ]
          },
          "metadata": {
            "needs_background": "light"
          }
        }
      ]
    },
    {
      "cell_type": "code",
      "source": [
        "from sklearn.linear_model import BayesianRidge\n",
        "\n",
        "lr = LinearRegression()\n",
        "br = BayesianRidge()\n",
        "\n",
        "lr.fit(df_noisy[['x']], df_noisy['y'])\n",
        "df_noisy['y_lr_pred'] = lr.predict(df_noisy[['x']])\n",
        "\n",
        "br.fit(df_noisy[['x']], df_noisy['y'])\n",
        "df_noisy['y_br_pred'], df_noisy['y_br_std'] = br.predict(df_noisy[['x']],\n",
        "                                                         return_std=True)"
      ],
      "metadata": {
        "id": "FZwhoHqV-zCD"
      },
      "execution_count": 32,
      "outputs": []
    },
    {
      "cell_type": "code",
      "source": [
        "df_noisy.head()"
      ],
      "metadata": {
        "colab": {
          "base_uri": "https://localhost:8080/",
          "height": 206
        },
        "id": "16YMa8PA_7YS",
        "outputId": "6d814970-298f-48f2-ce84-56de83b9f012"
      },
      "execution_count": 33,
      "outputs": [
        {
          "output_type": "execute_result",
          "data": {
            "text/html": [
              "\n",
              "  <div id=\"df-095ca5d7-e964-48fe-b4d5-1cb692ea40ef\">\n",
              "    <div class=\"colab-df-container\">\n",
              "      <div>\n",
              "<style scoped>\n",
              "    .dataframe tbody tr th:only-of-type {\n",
              "        vertical-align: middle;\n",
              "    }\n",
              "\n",
              "    .dataframe tbody tr th {\n",
              "        vertical-align: top;\n",
              "    }\n",
              "\n",
              "    .dataframe thead th {\n",
              "        text-align: right;\n",
              "    }\n",
              "</style>\n",
              "<table border=\"1\" class=\"dataframe\">\n",
              "  <thead>\n",
              "    <tr style=\"text-align: right;\">\n",
              "      <th></th>\n",
              "      <th>x</th>\n",
              "      <th>noise</th>\n",
              "      <th>y</th>\n",
              "      <th>y_lr_pred</th>\n",
              "      <th>y_br_pred</th>\n",
              "      <th>y_br_std</th>\n",
              "    </tr>\n",
              "  </thead>\n",
              "  <tbody>\n",
              "    <tr>\n",
              "      <th>0</th>\n",
              "      <td>24</td>\n",
              "      <td>-5.380550</td>\n",
              "      <td>18.619450</td>\n",
              "      <td>23.304062</td>\n",
              "      <td>23.285752</td>\n",
              "      <td>5.282386</td>\n",
              "    </tr>\n",
              "    <tr>\n",
              "      <th>1</th>\n",
              "      <td>14</td>\n",
              "      <td>0.322198</td>\n",
              "      <td>14.322198</td>\n",
              "      <td>13.496446</td>\n",
              "      <td>13.501081</td>\n",
              "      <td>5.201006</td>\n",
              "    </tr>\n",
              "    <tr>\n",
              "      <th>2</th>\n",
              "      <td>29</td>\n",
              "      <td>1.816225</td>\n",
              "      <td>30.816225</td>\n",
              "      <td>28.207870</td>\n",
              "      <td>28.178087</td>\n",
              "      <td>5.338404</td>\n",
              "    </tr>\n",
              "    <tr>\n",
              "      <th>3</th>\n",
              "      <td>15</td>\n",
              "      <td>12.773439</td>\n",
              "      <td>27.773439</td>\n",
              "      <td>14.477208</td>\n",
              "      <td>14.479548</td>\n",
              "      <td>5.207261</td>\n",
              "    </tr>\n",
              "    <tr>\n",
              "      <th>4</th>\n",
              "      <td>6</td>\n",
              "      <td>-0.689220</td>\n",
              "      <td>5.310780</td>\n",
              "      <td>5.650354</td>\n",
              "      <td>5.673345</td>\n",
              "      <td>5.166357</td>\n",
              "    </tr>\n",
              "  </tbody>\n",
              "</table>\n",
              "</div>\n",
              "      <button class=\"colab-df-convert\" onclick=\"convertToInteractive('df-095ca5d7-e964-48fe-b4d5-1cb692ea40ef')\"\n",
              "              title=\"Convert this dataframe to an interactive table.\"\n",
              "              style=\"display:none;\">\n",
              "        \n",
              "  <svg xmlns=\"http://www.w3.org/2000/svg\" height=\"24px\"viewBox=\"0 0 24 24\"\n",
              "       width=\"24px\">\n",
              "    <path d=\"M0 0h24v24H0V0z\" fill=\"none\"/>\n",
              "    <path d=\"M18.56 5.44l.94 2.06.94-2.06 2.06-.94-2.06-.94-.94-2.06-.94 2.06-2.06.94zm-11 1L8.5 8.5l.94-2.06 2.06-.94-2.06-.94L8.5 2.5l-.94 2.06-2.06.94zm10 10l.94 2.06.94-2.06 2.06-.94-2.06-.94-.94-2.06-.94 2.06-2.06.94z\"/><path d=\"M17.41 7.96l-1.37-1.37c-.4-.4-.92-.59-1.43-.59-.52 0-1.04.2-1.43.59L10.3 9.45l-7.72 7.72c-.78.78-.78 2.05 0 2.83L4 21.41c.39.39.9.59 1.41.59.51 0 1.02-.2 1.41-.59l7.78-7.78 2.81-2.81c.8-.78.8-2.07 0-2.86zM5.41 20L4 18.59l7.72-7.72 1.47 1.35L5.41 20z\"/>\n",
              "  </svg>\n",
              "      </button>\n",
              "      \n",
              "  <style>\n",
              "    .colab-df-container {\n",
              "      display:flex;\n",
              "      flex-wrap:wrap;\n",
              "      gap: 12px;\n",
              "    }\n",
              "\n",
              "    .colab-df-convert {\n",
              "      background-color: #E8F0FE;\n",
              "      border: none;\n",
              "      border-radius: 50%;\n",
              "      cursor: pointer;\n",
              "      display: none;\n",
              "      fill: #1967D2;\n",
              "      height: 32px;\n",
              "      padding: 0 0 0 0;\n",
              "      width: 32px;\n",
              "    }\n",
              "\n",
              "    .colab-df-convert:hover {\n",
              "      background-color: #E2EBFA;\n",
              "      box-shadow: 0px 1px 2px rgba(60, 64, 67, 0.3), 0px 1px 3px 1px rgba(60, 64, 67, 0.15);\n",
              "      fill: #174EA6;\n",
              "    }\n",
              "\n",
              "    [theme=dark] .colab-df-convert {\n",
              "      background-color: #3B4455;\n",
              "      fill: #D2E3FC;\n",
              "    }\n",
              "\n",
              "    [theme=dark] .colab-df-convert:hover {\n",
              "      background-color: #434B5C;\n",
              "      box-shadow: 0px 1px 3px 1px rgba(0, 0, 0, 0.15);\n",
              "      filter: drop-shadow(0px 1px 2px rgba(0, 0, 0, 0.3));\n",
              "      fill: #FFFFFF;\n",
              "    }\n",
              "  </style>\n",
              "\n",
              "      <script>\n",
              "        const buttonEl =\n",
              "          document.querySelector('#df-095ca5d7-e964-48fe-b4d5-1cb692ea40ef button.colab-df-convert');\n",
              "        buttonEl.style.display =\n",
              "          google.colab.kernel.accessAllowed ? 'block' : 'none';\n",
              "\n",
              "        async function convertToInteractive(key) {\n",
              "          const element = document.querySelector('#df-095ca5d7-e964-48fe-b4d5-1cb692ea40ef');\n",
              "          const dataTable =\n",
              "            await google.colab.kernel.invokeFunction('convertToInteractive',\n",
              "                                                     [key], {});\n",
              "          if (!dataTable) return;\n",
              "\n",
              "          const docLinkHtml = 'Like what you see? Visit the ' +\n",
              "            '<a target=\"_blank\" href=https://colab.research.google.com/notebooks/data_table.ipynb>data table notebook</a>'\n",
              "            + ' to learn more about interactive tables.';\n",
              "          element.innerHTML = '';\n",
              "          dataTable['output_type'] = 'display_data';\n",
              "          await google.colab.output.renderOutput(dataTable, element);\n",
              "          const docLink = document.createElement('div');\n",
              "          docLink.innerHTML = docLinkHtml;\n",
              "          element.appendChild(docLink);\n",
              "        }\n",
              "      </script>\n",
              "    </div>\n",
              "  </div>\n",
              "  "
            ],
            "text/plain": [
              "    x      noise          y  y_lr_pred  y_br_pred  y_br_std\n",
              "0  24  -5.380550  18.619450  23.304062  23.285752  5.282386\n",
              "1  14   0.322198  14.322198  13.496446  13.501081  5.201006\n",
              "2  29   1.816225  30.816225  28.207870  28.178087  5.338404\n",
              "3  15  12.773439  27.773439  14.477208  14.479548  5.207261\n",
              "4   6  -0.689220   5.310780   5.650354   5.673345  5.166357"
            ]
          },
          "metadata": {},
          "execution_count": 33
        }
      ]
    },
    {
      "cell_type": "code",
      "source": [
        "fig, axs = plt.subplots(1, 3, figsize=(16, 6), sharex=True, sharey=True)\n",
        "\n",
        "# we plot the data 3 times\n",
        "df_noisy.sort_values('x').plot(\n",
        "    title='Data', kind='scatter', x='x', y='y', ax=axs[0]\n",
        ")\n",
        "df_noisy.sort_values('x').plot(\n",
        "    kind='scatter', x='x', y='y', ax=axs[1], marker='o', alpha=0.25\n",
        ")\n",
        "df_noisy.sort_values('x').plot(\n",
        "    kind='scatter', x='x', y='y', ax=axs[2], marker='o', alpha=0.25\n",
        ")\n",
        "\n",
        "# here we plot the linear regression predictions\n",
        "df_noisy.sort_values('x').plot(\n",
        "    title='LinearRegression', kind='scatter', x='x', y='y_lr_pred',\n",
        "    ax=axs[1], marker='o', color='k', label='Predictions'\n",
        ")\n",
        "\n",
        "# here we plot the bayesian ridge predictions\n",
        "df_noisy.sort_values('x').plot(\n",
        "    title='BayesianRidge', kind='scatter', x='x', y='y_br_pred',\n",
        "    ax=axs[2], marker='o', color='k', label='Predictions'\n",
        ")\n",
        "\n",
        "# here we plot the range around the expected values\n",
        "# we multiply by 1.96 for 95% Confidence Interval\n",
        "axs[2].fill_between(\n",
        "    df_noisy.sort_values('x')['x'],\n",
        "    df_noisy.sort_values('x')['y_br_pred'] - 1.96 *\n",
        "        df_noisy.sort_values('x')['y_br_std'],\n",
        "    df_noisy.sort_values('x')['y_br_pred'] + 1.96 *\n",
        "        df_noisy.sort_values('x')['y_br_std'],\n",
        "    color='k', alpha=0.2, label=\"Predictions +/- 1.96 * Std Dev\"\n",
        ")\n",
        "\n",
        "fig.show()"
      ],
      "metadata": {
        "colab": {
          "base_uri": "https://localhost:8080/",
          "height": 358
        },
        "id": "twkr2eskAFht",
        "outputId": "3fa52a54-0155-4e38-ff7f-62d447424ea2"
      },
      "execution_count": 35,
      "outputs": [
        {
          "output_type": "display_data",
          "data": {
            "image/png": "[encoded data removed]",
            "text/plain": [
              "<Figure size 1152x432 with 3 Axes>"
            ]
          },
          "metadata": {
            "needs_background": "light"
          }
        }
      ]
    },
    {
      "cell_type": "code",
      "source": [
        "# understanding logistic function\n",
        "\n",
        "fig, ax = plt.subplots(1, 1, figsize=(16, 8))\n",
        "\n",
        "theta = np.arange(-10, 10, 0.05)\n",
        "y = 1/(1+np.exp(-1*theta))\n",
        "\n",
        "pd.DataFrame(\n",
        "    {\n",
        "        'theta': theta,\n",
        "        'y': y\n",
        "    }\n",
        ").plot(\n",
        "    title='Logistic Function',\n",
        "    kind='scatter', x='theta', y='y',\n",
        "    ax=ax\n",
        ")\n",
        "\n",
        "fig.show()"
      ],
      "metadata": {
        "colab": {
          "base_uri": "https://localhost:8080/",
          "height": 457
        },
        "id": "i1PkNs1IF1tP",
        "outputId": "33e94a2f-1037-4a83-8838-ae2c421932a0"
      },
      "execution_count": 36,
      "outputs": [
        {
          "output_type": "display_data",
          "data": {
            "image/png": "[encoded data removed]",
            "text/plain": [
              "<Figure size 1152x576 with 1 Axes>"
            ]
          },
          "metadata": {
            "needs_background": "light"
          }
        }
      ]
    },
    {
      "cell_type": "code",
      "source": [
        "# classifying iris dataset using logistic regression\n",
        "from sklearn import datasets\n",
        "iris = datasets.load_iris()\n",
        "\n",
        "df = pd.DataFrame(\n",
        "    iris.data,\n",
        "    columns=iris.feature_names\n",
        ")\n",
        "\n",
        "df['target'] = pd.Series(\n",
        "    iris.target\n",
        ")"
      ],
      "metadata": {
        "id": "bvfitw1mJxKl"
      },
      "execution_count": 37,
      "outputs": []
    },
    {
      "cell_type": "code",
      "source": [
        "from sklearn.linear_model import LogisticRegression\n",
        "from sklearn.model_selection import cross_validate\n",
        "\n",
        "num_folds = 6\n",
        "\n",
        "clf = LogisticRegression(\n",
        "    solver='lbfgs', multi_class='multinomial', max_iter=1000\n",
        ")\n",
        "accuracy_scores = cross_validate(\n",
        "    clf, df[iris.feature_names], df['target'],\n",
        "    cv=num_folds, scoring=['accuracy']\n",
        ")\n",
        "\n",
        "accuracy_mean = pd.Series(accuracy_scores['test_accuracy']).mean()\n",
        "accuracy_std = pd.Series(accuracy_scores['test_accuracy']).std()\n",
        "accuracy_sterror = accuracy_std / np.sqrt(num_folds)\n",
        "\n",
        "print(\n",
        "    'Logistic Regression: Accuracy ({}-fold): {:.2f} ~ {:.2f}'.format(\n",
        "        num_folds,\n",
        "        (accuracy_mean - 1.96 * accuracy_sterror),\n",
        "        (accuracy_mean + 1.96 * accuracy_sterror)\n",
        "    )\n",
        ")"
      ],
      "metadata": {
        "colab": {
          "base_uri": "https://localhost:8080/"
        },
        "id": "aoRg5llAKK4z",
        "outputId": "c980e509-789b-4083-b619-43b3ede8a17d"
      },
      "execution_count": 38,
      "outputs": [
        {
          "output_type": "stream",
          "name": "stdout",
          "text": [
            "Logistic Regression: Accuracy (6-fold): 0.94 ~ 0.99\n"
          ]
        }
      ]
    },
    {
      "cell_type": "code",
      "source": [
        "# fit the model again before getting its coefficients\n",
        "clf.fit(df[iris.feature_names], df['target'])\n",
        "\n",
        "# use dictionary comprehension instead of for-loop\n",
        "df_coef = pd.DataFrame(\n",
        "    {\n",
        "        f'Coef [Class {class_id}]': clf.coef_[class_id]\n",
        "        for class_id in range(clf.coef_.shape[0])\n",
        "    },\n",
        "    index=iris.feature_names\n",
        ")\n",
        "df_coef.loc['intercept', :] = clf.intercept_"
      ],
      "metadata": {
        "id": "1YhlvHmrMACT"
      },
      "execution_count": 39,
      "outputs": []
    },
    {
      "cell_type": "code",
      "source": [
        "df_coef"
      ],
      "metadata": {
        "colab": {
          "base_uri": "https://localhost:8080/",
          "height": 206
        },
        "id": "VbfxvWLnNK2c",
        "outputId": "54a6d8e0-be0e-4fb4-910d-1462e5af5fdf"
      },
      "execution_count": 40,
      "outputs": [
        {
          "output_type": "execute_result",
          "data": {
            "text/html": [
              "\n",
              "  <div id=\"df-30c890c8-93c3-4ebe-ad3f-45f50bc75c37\">\n",
              "    <div class=\"colab-df-container\">\n",
              "      <div>\n",
              "<style scoped>\n",
              "    .dataframe tbody tr th:only-of-type {\n",
              "        vertical-align: middle;\n",
              "    }\n",
              "\n",
              "    .dataframe tbody tr th {\n",
              "        vertical-align: top;\n",
              "    }\n",
              "\n",
              "    .dataframe thead th {\n",
              "        text-align: right;\n",
              "    }\n",
              "</style>\n",
              "<table border=\"1\" class=\"dataframe\">\n",
              "  <thead>\n",
              "    <tr style=\"text-align: right;\">\n",
              "      <th></th>\n",
              "      <th>Coef [Class 0]</th>\n",
              "      <th>Coef [Class 1]</th>\n",
              "      <th>Coef [Class 2]</th>\n",
              "    </tr>\n",
              "  </thead>\n",
              "  <tbody>\n",
              "    <tr>\n",
              "      <th>sepal length (cm)</th>\n",
              "      <td>-0.423165</td>\n",
              "      <td>0.534313</td>\n",
              "      <td>-0.111148</td>\n",
              "    </tr>\n",
              "    <tr>\n",
              "      <th>sepal width (cm)</th>\n",
              "      <td>0.966885</td>\n",
              "      <td>-0.321597</td>\n",
              "      <td>-0.645288</td>\n",
              "    </tr>\n",
              "    <tr>\n",
              "      <th>petal length (cm)</th>\n",
              "      <td>-2.516694</td>\n",
              "      <td>-0.206663</td>\n",
              "      <td>2.723356</td>\n",
              "    </tr>\n",
              "    <tr>\n",
              "      <th>petal width (cm)</th>\n",
              "      <td>-1.080784</td>\n",
              "      <td>-0.943552</td>\n",
              "      <td>2.024336</td>\n",
              "    </tr>\n",
              "    <tr>\n",
              "      <th>intercept</th>\n",
              "      <td>9.849024</td>\n",
              "      <td>2.238180</td>\n",
              "      <td>-12.087204</td>\n",
              "    </tr>\n",
              "  </tbody>\n",
              "</table>\n",
              "</div>\n",
              "      <button class=\"colab-df-convert\" onclick=\"convertToInteractive('df-30c890c8-93c3-4ebe-ad3f-45f50bc75c37')\"\n",
              "              title=\"Convert this dataframe to an interactive table.\"\n",
              "              style=\"display:none;\">\n",
              "        \n",
              "  <svg xmlns=\"http://www.w3.org/2000/svg\" height=\"24px\"viewBox=\"0 0 24 24\"\n",
              "       width=\"24px\">\n",
              "    <path d=\"M0 0h24v24H0V0z\" fill=\"none\"/>\n",
              "    <path d=\"M18.56 5.44l.94 2.06.94-2.06 2.06-.94-2.06-.94-.94-2.06-.94 2.06-2.06.94zm-11 1L8.5 8.5l.94-2.06 2.06-.94-2.06-.94L8.5 2.5l-.94 2.06-2.06.94zm10 10l.94 2.06.94-2.06 2.06-.94-2.06-.94-.94-2.06-.94 2.06-2.06.94z\"/><path d=\"M17.41 7.96l-1.37-1.37c-.4-.4-.92-.59-1.43-.59-.52 0-1.04.2-1.43.59L10.3 9.45l-7.72 7.72c-.78.78-.78 2.05 0 2.83L4 21.41c.39.39.9.59 1.41.59.51 0 1.02-.2 1.41-.59l7.78-7.78 2.81-2.81c.8-.78.8-2.07 0-2.86zM5.41 20L4 18.59l7.72-7.72 1.47 1.35L5.41 20z\"/>\n",
              "  </svg>\n",
              "      </button>\n",
              "      \n",
              "  <style>\n",
              "    .colab-df-container {\n",
              "      display:flex;\n",
              "      flex-wrap:wrap;\n",
              "      gap: 12px;\n",
              "    }\n",
              "\n",
              "    .colab-df-convert {\n",
              "      background-color: #E8F0FE;\n",
              "      border: none;\n",
              "      border-radius: 50%;\n",
              "      cursor: pointer;\n",
              "      display: none;\n",
              "      fill: #1967D2;\n",
              "      height: 32px;\n",
              "      padding: 0 0 0 0;\n",
              "      width: 32px;\n",
              "    }\n",
              "\n",
              "    .colab-df-convert:hover {\n",
              "      background-color: #E2EBFA;\n",
              "      box-shadow: 0px 1px 2px rgba(60, 64, 67, 0.3), 0px 1px 3px 1px rgba(60, 64, 67, 0.15);\n",
              "      fill: #174EA6;\n",
              "    }\n",
              "\n",
              "    [theme=dark] .colab-df-convert {\n",
              "      background-color: #3B4455;\n",
              "      fill: #D2E3FC;\n",
              "    }\n",
              "\n",
              "    [theme=dark] .colab-df-convert:hover {\n",
              "      background-color: #434B5C;\n",
              "      box-shadow: 0px 1px 3px 1px rgba(0, 0, 0, 0.15);\n",
              "      filter: drop-shadow(0px 1px 2px rgba(0, 0, 0, 0.3));\n",
              "      fill: #FFFFFF;\n",
              "    }\n",
              "  </style>\n",
              "\n",
              "      <script>\n",
              "        const buttonEl =\n",
              "          document.querySelector('#df-30c890c8-93c3-4ebe-ad3f-45f50bc75c37 button.colab-df-convert');\n",
              "        buttonEl.style.display =\n",
              "          google.colab.kernel.accessAllowed ? 'block' : 'none';\n",
              "\n",
              "        async function convertToInteractive(key) {\n",
              "          const element = document.querySelector('#df-30c890c8-93c3-4ebe-ad3f-45f50bc75c37');\n",
              "          const dataTable =\n",
              "            await google.colab.kernel.invokeFunction('convertToInteractive',\n",
              "                                                     [key], {});\n",
              "          if (!dataTable) return;\n",
              "\n",
              "          const docLinkHtml = 'Like what you see? Visit the ' +\n",
              "            '<a target=\"_blank\" href=https://colab.research.google.com/notebooks/data_table.ipynb>data table notebook</a>'\n",
              "            + ' to learn more about interactive tables.';\n",
              "          element.innerHTML = '';\n",
              "          dataTable['output_type'] = 'display_data';\n",
              "          await google.colab.output.renderOutput(dataTable, element);\n",
              "          const docLink = document.createElement('div');\n",
              "          docLink.innerHTML = docLinkHtml;\n",
              "          element.appendChild(docLink);\n",
              "        }\n",
              "      </script>\n",
              "    </div>\n",
              "  </div>\n",
              "  "
            ],
            "text/plain": [
              "                   Coef [Class 0]  Coef [Class 1]  Coef [Class 2]\n",
              "sepal length (cm)       -0.423165        0.534313       -0.111148\n",
              "sepal width (cm)         0.966885       -0.321597       -0.645288\n",
              "petal length (cm)       -2.516694       -0.206663        2.723356\n",
              "petal width (cm)        -1.080784       -0.943552        2.024336\n",
              "intercept                9.849024        2.238180      -12.087204"
            ]
          },
          "metadata": {},
          "execution_count": 40
        }
      ]
    },
    {
      "cell_type": "code",
      "source": [
        "# understanding classifier's decision boundaries\n",
        "\n",
        "def plot_decision_boundary(clf, x, y, ax, title):\n",
        "\n",
        "  cmap='Paired_r'\n",
        "  feature_names = x.columns\n",
        "  x, y = x.values, y.values\n",
        "\n",
        "  x_min, x_max = x[:,0].min(), x[:,0].max()\n",
        "  y_min, y_max = x[:,1].min(), x[:,1].max()\n",
        "\n",
        "  step = 0.02\n",
        "\n",
        "  xx, yy = np.meshgrid(\n",
        "      np.arange(x_min, x_max, step),\n",
        "      np.arange(y_min, y_max, step)\n",
        "  )\n",
        "  Z = clf.predict(np.c_[xx.ravel(), yy.ravel()])\n",
        "  Z = Z.reshape(xx.shape)\n",
        "  ax.contourf(xx, yy, Z, cmap=cmap, alpha=0.25)\n",
        "  ax.contour(xx, yy, Z, colors='k', linewidth=0.7)\n",
        "  ax.scatter(x[:,0], x[:,1], c=y, edgecolors='k')\n",
        "  ax.set_title(title)\n",
        "  ax.set_xlabel(feature_names[0])\n",
        "  ax.set_ylabel(feature_names[1])"
      ],
      "metadata": {
        "id": "HNRHreCqNd6a"
      },
      "execution_count": 41,
      "outputs": []
    },
    {
      "cell_type": "code",
      "source": [
        "df_train, df_test = train_test_split(df, test_size=0.3, random_state=22)"
      ],
      "metadata": {
        "id": "SyXNfUkjaOdB"
      },
      "execution_count": 42,
      "outputs": []
    },
    {
      "cell_type": "code",
      "source": [
        "from sklearn.tree import DecisionTreeClassifier\n",
        "from sklearn.metrics import accuracy_score\n",
        "\n",
        "fig, axs = plt.subplots(1, 2, figsize=(12, 6))\n",
        "two_features = ['petal width (cm)', 'petal length (cm)']\n",
        "\n",
        "clf_lr = LogisticRegression()\n",
        "clf_lr.fit(df_train[two_features], df_train['target'])\n",
        "accuracy = accuracy_score(\n",
        "    df_test['target'],\n",
        "    clf_lr.predict(df_test[two_features])\n",
        ")\n",
        "plot_decision_boundary(\n",
        "    clf_lr, df_test[two_features], df_test['target'], ax=axs[0],\n",
        "    title=f'Logistic Regression Classifier\\nAccuracy: {accuracy:.2%}'\n",
        ")\n",
        "\n",
        "clf_dt = DecisionTreeClassifier(max_depth=3)\n",
        "clf_dt.fit(df_train[two_features], df_train['target'])\n",
        "accuracy = accuracy_score(\n",
        "    df_test['target'],\n",
        "    clf_dt.predict(df_test[two_features])\n",
        ")\n",
        "\n",
        "plot_decision_boundary(\n",
        "    clf_dt, df_test[two_features], df_test['target'], ax=axs[1],\n",
        "    title=f'Decision Tree Classifier\\nAccuracy: {accuracy:.2%}'\n",
        ")\n",
        "\n",
        "fig.show()"
      ],
      "metadata": {
        "colab": {
          "base_uri": "https://localhost:8080/",
          "height": 419
        },
        "id": "N6-WZxrPabfd",
        "outputId": "b7a073ca-4ac8-4c61-d0fe-6823896d11fd"
      },
      "execution_count": 44,
      "outputs": [
        {
          "output_type": "display_data",
          "data": {
            "image/png": "[encoded data removed]",
            "text/plain": [
              "<Figure size 864x432 with 2 Axes>"
            ]
          },
          "metadata": {
            "needs_background": "light"
          }
        }
      ]
    },
    {
      "cell_type": "code",
      "source": [
        ""
      ],
      "metadata": {
        "id": "r3zNypo9fUFy"
      },
      "execution_count": null,
      "outputs": []
    }
  ]
}